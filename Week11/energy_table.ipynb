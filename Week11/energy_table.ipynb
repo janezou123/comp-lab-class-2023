{
 "cells": [
  {
   "cell_type": "code",
   "execution_count": 1,
   "metadata": {},
   "outputs": [
    {
     "name": "stdout",
     "output_type": "stream",
     "text": [
      "\n",
      "CommandNotFoundError: No command 'conda rdkit'.\n",
      "\n",
      "\n",
      "Note: you may need to restart the kernel to use updated packages.\n"
     ]
    }
   ],
   "source": [
    "conda -c rdkit rdkit"
   ]
  },
  {
   "cell_type": "code",
   "execution_count": 2,
   "metadata": {},
   "outputs": [
    {
     "data": {
      "text/plain": [
       "'2022.09.1'"
      ]
     },
     "execution_count": 2,
     "metadata": {},
     "output_type": "execute_result"
    }
   ],
   "source": [
    "import rdkit\n",
    "from rdkit import Chem\n",
    "from rdkit.Chem import AllChem\n",
    "\n",
    "from rdkit.Chem import Draw\n",
    "from rdkit.Chem.Draw import IPythonConsole\n",
    "\n",
    "rdkit.__version__"
   ]
  },
  {
   "cell_type": "code",
   "execution_count": 3,
   "metadata": {},
   "outputs": [],
   "source": [
    " from rdkit.Chem import AllChem as Chem"
   ]
  },
  {
   "cell_type": "code",
   "execution_count": 4,
   "metadata": {},
   "outputs": [
    {
     "name": "stdout",
     "output_type": "stream",
     "text": [
      "# of SMILES: 11\n"
     ]
    }
   ],
   "source": [
    "file_name = '/home/hz2750/comp-lab-class/comp-lab-class-2023/Week11/smiles.csv'\n",
    "\n",
    "with open(file_name, \"r\") as ins:\n",
    "    smiles = []\n",
    "    for line in ins:\n",
    "        smiles.append(line.split('\\n')[0])\n",
    "print('# of SMILES:', len(smiles))"
   ]
  },
  {
   "cell_type": "code",
   "execution_count": 5,
   "metadata": {},
   "outputs": [],
   "source": [
    "import pandas as pd\n",
    "from rdkit.Chem import PandasTools"
   ]
  },
  {
   "cell_type": "code",
   "execution_count": 6,
   "metadata": {},
   "outputs": [
    {
     "data": {
      "text/html": [
       "<div>\n",
       "<style scoped>\n",
       "    .dataframe tbody tr th:only-of-type {\n",
       "        vertical-align: middle;\n",
       "    }\n",
       "\n",
       "    .dataframe tbody tr th {\n",
       "        vertical-align: top;\n",
       "    }\n",
       "\n",
       "    .dataframe thead th {\n",
       "        text-align: right;\n",
       "    }\n",
       "</style>\n",
       "<table border=\"1\" class=\"dataframe\">\n",
       "  <thead>\n",
       "    <tr style=\"text-align: right;\">\n",
       "      <th></th>\n",
       "      <th>smiles</th>\n",
       "    </tr>\n",
       "  </thead>\n",
       "  <tbody>\n",
       "    <tr>\n",
       "      <th>0</th>\n",
       "      <td>C=C</td>\n",
       "    </tr>\n",
       "  </tbody>\n",
       "</table>\n",
       "</div>"
      ],
      "text/plain": [
       "  smiles\n",
       "0    C=C"
      ]
     },
     "execution_count": 6,
     "metadata": {},
     "output_type": "execute_result"
    }
   ],
   "source": [
    "esol_data = pd.read_csv('/home/hz2750/comp-lab-class/comp-lab-class-2023/Week11/smiles.csv')\n",
    "esol_data.head(1)"
   ]
  },
  {
   "cell_type": "code",
   "execution_count": 7,
   "metadata": {},
   "outputs": [
    {
     "name": "stdout",
     "output_type": "stream",
     "text": [
      "C=C\n",
      "C=O\n",
      "C#N\n",
      "CCO\n",
      "CCC(=O)O\n",
      "CN=C=O\n",
      "C1=CCC=CC1\n",
      "C1=CC=CC=C1\n",
      "C1=C(C)C=CC=C1\n",
      "C1CCC2CCCCC2C1\n"
     ]
    }
   ],
   "source": [
    "esol_data.smiles\n",
    "for smiles in esol_data.smiles:\n",
    "        print(smiles)"
   ]
  },
  {
   "cell_type": "code",
   "execution_count": 8,
   "metadata": {},
   "outputs": [
    {
     "data": {
      "text/html": [
       "<div>\n",
       "<style scoped>\n",
       "    .dataframe tbody tr th:only-of-type {\n",
       "        vertical-align: middle;\n",
       "    }\n",
       "\n",
       "    .dataframe tbody tr th {\n",
       "        vertical-align: top;\n",
       "    }\n",
       "\n",
       "    .dataframe thead th {\n",
       "        text-align: right;\n",
       "    }\n",
       "</style>\n",
       "<table border=\"1\" class=\"dataframe\">\n",
       "  <thead>\n",
       "    <tr style=\"text-align: right;\">\n",
       "      <th></th>\n",
       "      <th>smiles</th>\n",
       "      <th>ROMol</th>\n",
       "      <th>Drawings</th>\n",
       "    </tr>\n",
       "  </thead>\n",
       "  <tbody>\n",
       "    <tr>\n",
       "      <th>0</th>\n",
       "      <td>C=C</td>\n",
       "      <td>&lt;rdkit.Chem.rdchem.Mol object at 0x150f3d323c80&gt;</td>\n",
       "      <td>&lt;PIL.PngImagePlugin.PngImageFile image mode=RG...</td>\n",
       "    </tr>\n",
       "    <tr>\n",
       "      <th>1</th>\n",
       "      <td>C=O</td>\n",
       "      <td>&lt;rdkit.Chem.rdchem.Mol object at 0x150f3d323d60&gt;</td>\n",
       "      <td>&lt;PIL.PngImagePlugin.PngImageFile image mode=RG...</td>\n",
       "    </tr>\n",
       "    <tr>\n",
       "      <th>2</th>\n",
       "      <td>C#N</td>\n",
       "      <td>&lt;rdkit.Chem.rdchem.Mol object at 0x150f3d323dd0&gt;</td>\n",
       "      <td>&lt;PIL.PngImagePlugin.PngImageFile image mode=RG...</td>\n",
       "    </tr>\n",
       "    <tr>\n",
       "      <th>3</th>\n",
       "      <td>CCO</td>\n",
       "      <td>&lt;rdkit.Chem.rdchem.Mol object at 0x150f3d323e40&gt;</td>\n",
       "      <td>&lt;PIL.PngImagePlugin.PngImageFile image mode=RG...</td>\n",
       "    </tr>\n",
       "    <tr>\n",
       "      <th>4</th>\n",
       "      <td>CCC(=O)O</td>\n",
       "      <td>&lt;rdkit.Chem.rdchem.Mol object at 0x150f3d323eb0&gt;</td>\n",
       "      <td>&lt;PIL.PngImagePlugin.PngImageFile image mode=RG...</td>\n",
       "    </tr>\n",
       "    <tr>\n",
       "      <th>5</th>\n",
       "      <td>CN=C=O</td>\n",
       "      <td>&lt;rdkit.Chem.rdchem.Mol object at 0x150f3d323f20&gt;</td>\n",
       "      <td>&lt;PIL.PngImagePlugin.PngImageFile image mode=RG...</td>\n",
       "    </tr>\n",
       "    <tr>\n",
       "      <th>6</th>\n",
       "      <td>C1=CCC=CC1</td>\n",
       "      <td>&lt;rdkit.Chem.rdchem.Mol object at 0x150f3d323f90&gt;</td>\n",
       "      <td>&lt;PIL.PngImagePlugin.PngImageFile image mode=RG...</td>\n",
       "    </tr>\n",
       "    <tr>\n",
       "      <th>7</th>\n",
       "      <td>C1=CC=CC=C1</td>\n",
       "      <td>&lt;rdkit.Chem.rdchem.Mol object at 0x150f3d355040&gt;</td>\n",
       "      <td>&lt;PIL.PngImagePlugin.PngImageFile image mode=RG...</td>\n",
       "    </tr>\n",
       "    <tr>\n",
       "      <th>8</th>\n",
       "      <td>C1=C(C)C=CC=C1</td>\n",
       "      <td>&lt;rdkit.Chem.rdchem.Mol object at 0x150f3d3550b0&gt;</td>\n",
       "      <td>&lt;PIL.PngImagePlugin.PngImageFile image mode=RG...</td>\n",
       "    </tr>\n",
       "    <tr>\n",
       "      <th>9</th>\n",
       "      <td>C1CCC2CCCCC2C1</td>\n",
       "      <td>&lt;rdkit.Chem.rdchem.Mol object at 0x150f3d355120&gt;</td>\n",
       "      <td>&lt;PIL.PngImagePlugin.PngImageFile image mode=RG...</td>\n",
       "    </tr>\n",
       "  </tbody>\n",
       "</table>\n",
       "</div>"
      ],
      "text/plain": [
       "           smiles                                             ROMol  \\\n",
       "0             C=C  <rdkit.Chem.rdchem.Mol object at 0x150f3d323c80>   \n",
       "1             C=O  <rdkit.Chem.rdchem.Mol object at 0x150f3d323d60>   \n",
       "2             C#N  <rdkit.Chem.rdchem.Mol object at 0x150f3d323dd0>   \n",
       "3             CCO  <rdkit.Chem.rdchem.Mol object at 0x150f3d323e40>   \n",
       "4        CCC(=O)O  <rdkit.Chem.rdchem.Mol object at 0x150f3d323eb0>   \n",
       "5          CN=C=O  <rdkit.Chem.rdchem.Mol object at 0x150f3d323f20>   \n",
       "6      C1=CCC=CC1  <rdkit.Chem.rdchem.Mol object at 0x150f3d323f90>   \n",
       "7     C1=CC=CC=C1  <rdkit.Chem.rdchem.Mol object at 0x150f3d355040>   \n",
       "8  C1=C(C)C=CC=C1  <rdkit.Chem.rdchem.Mol object at 0x150f3d3550b0>   \n",
       "9  C1CCC2CCCCC2C1  <rdkit.Chem.rdchem.Mol object at 0x150f3d355120>   \n",
       "\n",
       "                                            Drawings  \n",
       "0  <PIL.PngImagePlugin.PngImageFile image mode=RG...  \n",
       "1  <PIL.PngImagePlugin.PngImageFile image mode=RG...  \n",
       "2  <PIL.PngImagePlugin.PngImageFile image mode=RG...  \n",
       "3  <PIL.PngImagePlugin.PngImageFile image mode=RG...  \n",
       "4  <PIL.PngImagePlugin.PngImageFile image mode=RG...  \n",
       "5  <PIL.PngImagePlugin.PngImageFile image mode=RG...  \n",
       "6  <PIL.PngImagePlugin.PngImageFile image mode=RG...  \n",
       "7  <PIL.PngImagePlugin.PngImageFile image mode=RG...  \n",
       "8  <PIL.PngImagePlugin.PngImageFile image mode=RG...  \n",
       "9  <PIL.PngImagePlugin.PngImageFile image mode=RG...  "
      ]
     },
     "execution_count": 8,
     "metadata": {},
     "output_type": "execute_result"
    }
   ],
   "source": [
    "PandasTools.AddMoleculeColumnToFrame(esol_data, smilesCol='smiles')\n",
    "\n",
    "esol_data[\"Drawings\"]= [Draw.MolToImage(m) for m in esol_data[\"ROMol\"]]\n",
    "\n",
    "#for m in esol_data['ROMol']:\n",
    "    #esol_data['ROMol'][m]=Draw.MolToImage(m)\n",
    "\n",
    "esol_data.head(11)"
   ]
  },
  {
   "cell_type": "code",
   "execution_count": 9,
   "metadata": {},
   "outputs": [
    {
     "name": "stdout",
     "output_type": "stream",
     "text": [
      "<class 'rdkit.Chem.rdchem.Mol'>\n"
     ]
    }
   ],
   "source": [
    "print(type(esol_data.ROMol[7]))"
   ]
  },
  {
   "cell_type": "code",
   "execution_count": 10,
   "metadata": {},
   "outputs": [
    {
     "data": {
      "image/png": "[encoded data removed]",
      "text/plain": [
       "<IPython.core.display.Image object>"
      ]
     },
     "execution_count": 10,
     "metadata": {},
     "output_type": "execute_result"
    }
   ],
   "source": [
    "PandasTools.FrameToGridImage(esol_data.head(11), molsPerRow=4)"
   ]
  },
  {
   "cell_type": "code",
   "execution_count": 11,
   "metadata": {},
   "outputs": [
    {
     "data": {
      "text/html": [
       "<div>\n",
       "<style scoped>\n",
       "    .dataframe tbody tr th:only-of-type {\n",
       "        vertical-align: middle;\n",
       "    }\n",
       "\n",
       "    .dataframe tbody tr th {\n",
       "        vertical-align: top;\n",
       "    }\n",
       "\n",
       "    .dataframe thead th {\n",
       "        text-align: right;\n",
       "    }\n",
       "</style>\n",
       "<table border=\"1\" class=\"dataframe\">\n",
       "  <thead>\n",
       "    <tr style=\"text-align: right;\">\n",
       "      <th></th>\n",
       "      <th>smiles</th>\n",
       "      <th>ROMol</th>\n",
       "      <th>Drawings</th>\n",
       "      <th>n_Atoms</th>\n",
       "    </tr>\n",
       "  </thead>\n",
       "  <tbody>\n",
       "    <tr>\n",
       "      <th>0</th>\n",
       "      <td>C=C</td>\n",
       "      <td>&lt;rdkit.Chem.rdchem.Mol object at 0x150f3d323c80&gt;</td>\n",
       "      <td>&lt;PIL.PngImagePlugin.PngImageFile image mode=RG...</td>\n",
       "      <td>2</td>\n",
       "    </tr>\n",
       "    <tr>\n",
       "      <th>1</th>\n",
       "      <td>C=O</td>\n",
       "      <td>&lt;rdkit.Chem.rdchem.Mol object at 0x150f3d323d60&gt;</td>\n",
       "      <td>&lt;PIL.PngImagePlugin.PngImageFile image mode=RG...</td>\n",
       "      <td>2</td>\n",
       "    </tr>\n",
       "    <tr>\n",
       "      <th>2</th>\n",
       "      <td>C#N</td>\n",
       "      <td>&lt;rdkit.Chem.rdchem.Mol object at 0x150f3d323dd0&gt;</td>\n",
       "      <td>&lt;PIL.PngImagePlugin.PngImageFile image mode=RG...</td>\n",
       "      <td>2</td>\n",
       "    </tr>\n",
       "    <tr>\n",
       "      <th>3</th>\n",
       "      <td>CCO</td>\n",
       "      <td>&lt;rdkit.Chem.rdchem.Mol object at 0x150f3d323e40&gt;</td>\n",
       "      <td>&lt;PIL.PngImagePlugin.PngImageFile image mode=RG...</td>\n",
       "      <td>3</td>\n",
       "    </tr>\n",
       "    <tr>\n",
       "      <th>4</th>\n",
       "      <td>CCC(=O)O</td>\n",
       "      <td>&lt;rdkit.Chem.rdchem.Mol object at 0x150f3d323eb0&gt;</td>\n",
       "      <td>&lt;PIL.PngImagePlugin.PngImageFile image mode=RG...</td>\n",
       "      <td>5</td>\n",
       "    </tr>\n",
       "    <tr>\n",
       "      <th>5</th>\n",
       "      <td>CN=C=O</td>\n",
       "      <td>&lt;rdkit.Chem.rdchem.Mol object at 0x150f3d323f20&gt;</td>\n",
       "      <td>&lt;PIL.PngImagePlugin.PngImageFile image mode=RG...</td>\n",
       "      <td>4</td>\n",
       "    </tr>\n",
       "    <tr>\n",
       "      <th>6</th>\n",
       "      <td>C1=CCC=CC1</td>\n",
       "      <td>&lt;rdkit.Chem.rdchem.Mol object at 0x150f3d323f90&gt;</td>\n",
       "      <td>&lt;PIL.PngImagePlugin.PngImageFile image mode=RG...</td>\n",
       "      <td>6</td>\n",
       "    </tr>\n",
       "    <tr>\n",
       "      <th>7</th>\n",
       "      <td>C1=CC=CC=C1</td>\n",
       "      <td>&lt;rdkit.Chem.rdchem.Mol object at 0x150f3d355040&gt;</td>\n",
       "      <td>&lt;PIL.PngImagePlugin.PngImageFile image mode=RG...</td>\n",
       "      <td>6</td>\n",
       "    </tr>\n",
       "    <tr>\n",
       "      <th>8</th>\n",
       "      <td>C1=C(C)C=CC=C1</td>\n",
       "      <td>&lt;rdkit.Chem.rdchem.Mol object at 0x150f3d3550b0&gt;</td>\n",
       "      <td>&lt;PIL.PngImagePlugin.PngImageFile image mode=RG...</td>\n",
       "      <td>7</td>\n",
       "    </tr>\n",
       "    <tr>\n",
       "      <th>9</th>\n",
       "      <td>C1CCC2CCCCC2C1</td>\n",
       "      <td>&lt;rdkit.Chem.rdchem.Mol object at 0x150f3d355120&gt;</td>\n",
       "      <td>&lt;PIL.PngImagePlugin.PngImageFile image mode=RG...</td>\n",
       "      <td>10</td>\n",
       "    </tr>\n",
       "  </tbody>\n",
       "</table>\n",
       "</div>"
      ],
      "text/plain": [
       "           smiles                                             ROMol  \\\n",
       "0             C=C  <rdkit.Chem.rdchem.Mol object at 0x150f3d323c80>   \n",
       "1             C=O  <rdkit.Chem.rdchem.Mol object at 0x150f3d323d60>   \n",
       "2             C#N  <rdkit.Chem.rdchem.Mol object at 0x150f3d323dd0>   \n",
       "3             CCO  <rdkit.Chem.rdchem.Mol object at 0x150f3d323e40>   \n",
       "4        CCC(=O)O  <rdkit.Chem.rdchem.Mol object at 0x150f3d323eb0>   \n",
       "5          CN=C=O  <rdkit.Chem.rdchem.Mol object at 0x150f3d323f20>   \n",
       "6      C1=CCC=CC1  <rdkit.Chem.rdchem.Mol object at 0x150f3d323f90>   \n",
       "7     C1=CC=CC=C1  <rdkit.Chem.rdchem.Mol object at 0x150f3d355040>   \n",
       "8  C1=C(C)C=CC=C1  <rdkit.Chem.rdchem.Mol object at 0x150f3d3550b0>   \n",
       "9  C1CCC2CCCCC2C1  <rdkit.Chem.rdchem.Mol object at 0x150f3d355120>   \n",
       "\n",
       "                                            Drawings  n_Atoms  \n",
       "0  <PIL.PngImagePlugin.PngImageFile image mode=RG...        2  \n",
       "1  <PIL.PngImagePlugin.PngImageFile image mode=RG...        2  \n",
       "2  <PIL.PngImagePlugin.PngImageFile image mode=RG...        2  \n",
       "3  <PIL.PngImagePlugin.PngImageFile image mode=RG...        3  \n",
       "4  <PIL.PngImagePlugin.PngImageFile image mode=RG...        5  \n",
       "5  <PIL.PngImagePlugin.PngImageFile image mode=RG...        4  \n",
       "6  <PIL.PngImagePlugin.PngImageFile image mode=RG...        6  \n",
       "7  <PIL.PngImagePlugin.PngImageFile image mode=RG...        6  \n",
       "8  <PIL.PngImagePlugin.PngImageFile image mode=RG...        7  \n",
       "9  <PIL.PngImagePlugin.PngImageFile image mode=RG...       10  "
      ]
     },
     "execution_count": 11,
     "metadata": {},
     "output_type": "execute_result"
    }
   ],
   "source": [
    "esol_data[\"n_Atoms\"] = esol_data['ROMol'].map(lambda x: x.GetNumAtoms())\n",
    "esol_data.head(11)"
   ]
  },
  {
   "cell_type": "code",
   "execution_count": 12,
   "metadata": {},
   "outputs": [
    {
     "name": "stdout",
     "output_type": "stream",
     "text": [
      "Defaulting to user installation because normal site-packages is not writeable\n",
      "Requirement already satisfied: psikit in /ext3/miniconda3/lib/python3.9/site-packages (0.2.0)\n",
      "Requirement already satisfied: debtcollector in /ext3/miniconda3/lib/python3.9/site-packages (from psikit) (2.5.0)\n",
      "Requirement already satisfied: wrapt>=1.7.0 in /ext3/miniconda3/lib/python3.9/site-packages (from debtcollector->psikit) (1.14.1)\n",
      "Note: you may need to restart the kernel to use updated packages.\n"
     ]
    }
   ],
   "source": [
    "pip install psikit"
   ]
  },
  {
   "cell_type": "code",
   "execution_count": 13,
   "metadata": {},
   "outputs": [
    {
     "name": "stdout",
     "output_type": "stream",
     "text": [
      "\n",
      "  Memory set to  11.176 GiB by Python driver.\n",
      "  Threads set to 1 by Python driver.\n",
      "Optimizer: Optimization complete!\n",
      "Optimized SCF Energy:  -78.03876941254534\n",
      "Optimizer: Optimization complete!\n",
      "Optimized SCF Energy:  -113.86953646696564\n",
      "Optimizer: Optimization complete!\n",
      "Optimized SCF Energy:  -92.87694247778018\n",
      "Optimizer: Optimization complete!\n",
      "Optimized SCF Energy:  -154.0899187071791\n",
      "Optimizer: Optimization complete!\n",
      "Optimized SCF Energy:  -266.85898515765956\n",
      "Optimizer: Optimization complete!\n",
      "Optimized SCF Energy:  -206.79559264403252\n",
      "Optimizer: Optimization complete!\n",
      "Optimized SCF Energy:  -231.84676157491646\n",
      "Optimizer: Optimization complete!\n",
      "Optimized SCF Energy:  -230.71352354226508\n",
      "Optimizer: Optimization complete!\n",
      "Optimized SCF Energy:  -269.7535521667374\n",
      "Optimizer: Optimization complete!\n",
      "Optimized SCF Energy:  -389.2048422471265\n",
      "CPU times: user 2min 7s, sys: 9.97 s, total: 2min 17s\n",
      "Wall time: 2min 42s\n"
     ]
    }
   ],
   "source": [
    "%%time\n",
    "from psikit import Psikit\n",
    "    \n",
    "for smiles in esol_data.smiles:\n",
    "    pk=Psikit(debug=True,threads=1,memory=12)\n",
    "    pk.read_from_smiles(smiles)\n",
    "    print(\"Optimized SCF Energy: \", pk.optimize())\n",
    "# Optimizer: Optimization complete!\n",
    "# Optimized SCF Energy:  -230.71352354223438"
   ]
  },
  {
   "cell_type": "code",
   "execution_count": 16,
   "metadata": {},
   "outputs": [],
   "source": [
    "energy = [-78.04, -113.87, -92.88, -154.90, -266.86, -206.80, -231.85, -230.71, -269.75, -389.20]"
   ]
  },
  {
   "cell_type": "code",
   "execution_count": 18,
   "metadata": {},
   "outputs": [
    {
     "data": {
      "text/html": [
       "<div>\n",
       "<style scoped>\n",
       "    .dataframe tbody tr th:only-of-type {\n",
       "        vertical-align: middle;\n",
       "    }\n",
       "\n",
       "    .dataframe tbody tr th {\n",
       "        vertical-align: top;\n",
       "    }\n",
       "\n",
       "    .dataframe thead th {\n",
       "        text-align: right;\n",
       "    }\n",
       "</style>\n",
       "<table border=\"1\" class=\"dataframe\">\n",
       "  <thead>\n",
       "    <tr style=\"text-align: right;\">\n",
       "      <th></th>\n",
       "      <th>smiles</th>\n",
       "      <th>ROMol</th>\n",
       "      <th>Drawings</th>\n",
       "      <th>n_Atoms</th>\n",
       "      <th>optimized energy</th>\n",
       "    </tr>\n",
       "  </thead>\n",
       "  <tbody>\n",
       "    <tr>\n",
       "      <th>0</th>\n",
       "      <td>C=C</td>\n",
       "      <td>&lt;rdkit.Chem.rdchem.Mol object at 0x150f3d323c80&gt;</td>\n",
       "      <td>&lt;PIL.PngImagePlugin.PngImageFile image mode=RG...</td>\n",
       "      <td>2</td>\n",
       "      <td>-78.04</td>\n",
       "    </tr>\n",
       "    <tr>\n",
       "      <th>1</th>\n",
       "      <td>C=O</td>\n",
       "      <td>&lt;rdkit.Chem.rdchem.Mol object at 0x150f3d323d60&gt;</td>\n",
       "      <td>&lt;PIL.PngImagePlugin.PngImageFile image mode=RG...</td>\n",
       "      <td>2</td>\n",
       "      <td>-113.87</td>\n",
       "    </tr>\n",
       "    <tr>\n",
       "      <th>2</th>\n",
       "      <td>C#N</td>\n",
       "      <td>&lt;rdkit.Chem.rdchem.Mol object at 0x150f3d323dd0&gt;</td>\n",
       "      <td>&lt;PIL.PngImagePlugin.PngImageFile image mode=RG...</td>\n",
       "      <td>2</td>\n",
       "      <td>-92.88</td>\n",
       "    </tr>\n",
       "    <tr>\n",
       "      <th>3</th>\n",
       "      <td>CCO</td>\n",
       "      <td>&lt;rdkit.Chem.rdchem.Mol object at 0x150f3d323e40&gt;</td>\n",
       "      <td>&lt;PIL.PngImagePlugin.PngImageFile image mode=RG...</td>\n",
       "      <td>3</td>\n",
       "      <td>-154.90</td>\n",
       "    </tr>\n",
       "    <tr>\n",
       "      <th>4</th>\n",
       "      <td>CCC(=O)O</td>\n",
       "      <td>&lt;rdkit.Chem.rdchem.Mol object at 0x150f3d323eb0&gt;</td>\n",
       "      <td>&lt;PIL.PngImagePlugin.PngImageFile image mode=RG...</td>\n",
       "      <td>5</td>\n",
       "      <td>-266.86</td>\n",
       "    </tr>\n",
       "    <tr>\n",
       "      <th>5</th>\n",
       "      <td>CN=C=O</td>\n",
       "      <td>&lt;rdkit.Chem.rdchem.Mol object at 0x150f3d323f20&gt;</td>\n",
       "      <td>&lt;PIL.PngImagePlugin.PngImageFile image mode=RG...</td>\n",
       "      <td>4</td>\n",
       "      <td>-206.80</td>\n",
       "    </tr>\n",
       "    <tr>\n",
       "      <th>6</th>\n",
       "      <td>C1=CCC=CC1</td>\n",
       "      <td>&lt;rdkit.Chem.rdchem.Mol object at 0x150f3d323f90&gt;</td>\n",
       "      <td>&lt;PIL.PngImagePlugin.PngImageFile image mode=RG...</td>\n",
       "      <td>6</td>\n",
       "      <td>-231.85</td>\n",
       "    </tr>\n",
       "    <tr>\n",
       "      <th>7</th>\n",
       "      <td>C1=CC=CC=C1</td>\n",
       "      <td>&lt;rdkit.Chem.rdchem.Mol object at 0x150f3d355040&gt;</td>\n",
       "      <td>&lt;PIL.PngImagePlugin.PngImageFile image mode=RG...</td>\n",
       "      <td>6</td>\n",
       "      <td>-230.71</td>\n",
       "    </tr>\n",
       "    <tr>\n",
       "      <th>8</th>\n",
       "      <td>C1=C(C)C=CC=C1</td>\n",
       "      <td>&lt;rdkit.Chem.rdchem.Mol object at 0x150f3d3550b0&gt;</td>\n",
       "      <td>&lt;PIL.PngImagePlugin.PngImageFile image mode=RG...</td>\n",
       "      <td>7</td>\n",
       "      <td>-269.75</td>\n",
       "    </tr>\n",
       "    <tr>\n",
       "      <th>9</th>\n",
       "      <td>C1CCC2CCCCC2C1</td>\n",
       "      <td>&lt;rdkit.Chem.rdchem.Mol object at 0x150f3d355120&gt;</td>\n",
       "      <td>&lt;PIL.PngImagePlugin.PngImageFile image mode=RG...</td>\n",
       "      <td>10</td>\n",
       "      <td>-389.20</td>\n",
       "    </tr>\n",
       "  </tbody>\n",
       "</table>\n",
       "</div>"
      ],
      "text/plain": [
       "           smiles                                             ROMol  \\\n",
       "0             C=C  <rdkit.Chem.rdchem.Mol object at 0x150f3d323c80>   \n",
       "1             C=O  <rdkit.Chem.rdchem.Mol object at 0x150f3d323d60>   \n",
       "2             C#N  <rdkit.Chem.rdchem.Mol object at 0x150f3d323dd0>   \n",
       "3             CCO  <rdkit.Chem.rdchem.Mol object at 0x150f3d323e40>   \n",
       "4        CCC(=O)O  <rdkit.Chem.rdchem.Mol object at 0x150f3d323eb0>   \n",
       "5          CN=C=O  <rdkit.Chem.rdchem.Mol object at 0x150f3d323f20>   \n",
       "6      C1=CCC=CC1  <rdkit.Chem.rdchem.Mol object at 0x150f3d323f90>   \n",
       "7     C1=CC=CC=C1  <rdkit.Chem.rdchem.Mol object at 0x150f3d355040>   \n",
       "8  C1=C(C)C=CC=C1  <rdkit.Chem.rdchem.Mol object at 0x150f3d3550b0>   \n",
       "9  C1CCC2CCCCC2C1  <rdkit.Chem.rdchem.Mol object at 0x150f3d355120>   \n",
       "\n",
       "                                            Drawings  n_Atoms  \\\n",
       "0  <PIL.PngImagePlugin.PngImageFile image mode=RG...        2   \n",
       "1  <PIL.PngImagePlugin.PngImageFile image mode=RG...        2   \n",
       "2  <PIL.PngImagePlugin.PngImageFile image mode=RG...        2   \n",
       "3  <PIL.PngImagePlugin.PngImageFile image mode=RG...        3   \n",
       "4  <PIL.PngImagePlugin.PngImageFile image mode=RG...        5   \n",
       "5  <PIL.PngImagePlugin.PngImageFile image mode=RG...        4   \n",
       "6  <PIL.PngImagePlugin.PngImageFile image mode=RG...        6   \n",
       "7  <PIL.PngImagePlugin.PngImageFile image mode=RG...        6   \n",
       "8  <PIL.PngImagePlugin.PngImageFile image mode=RG...        7   \n",
       "9  <PIL.PngImagePlugin.PngImageFile image mode=RG...       10   \n",
       "\n",
       "   optimized energy  \n",
       "0            -78.04  \n",
       "1           -113.87  \n",
       "2            -92.88  \n",
       "3           -154.90  \n",
       "4           -266.86  \n",
       "5           -206.80  \n",
       "6           -231.85  \n",
       "7           -230.71  \n",
       "8           -269.75  \n",
       "9           -389.20  "
      ]
     },
     "execution_count": 18,
     "metadata": {},
     "output_type": "execute_result"
    }
   ],
   "source": [
    "esol_data['optimized energy'] = energy[:len(esol_data)]\n",
    "esol_data.head(11)"
   ]
  },
  {
   "cell_type": "code",
   "execution_count": null,
   "metadata": {},
   "outputs": [],
   "source": []
  }
 ],
 "metadata": {
  "kernelspec": {
   "display_name": "lab_env_2023",
   "language": "python",
   "name": "lab_env_2023"
  },
  "language_info": {
   "codemirror_mode": {
    "name": "ipython",
    "version": 3
   },
   "file_extension": ".py",
   "mimetype": "text/x-python",
   "name": "python",
   "nbconvert_exporter": "python",
   "pygments_lexer": "ipython3",
   "version": "3.9.12"
  }
 },
 "nbformat": 4,
 "nbformat_minor": 4
}
