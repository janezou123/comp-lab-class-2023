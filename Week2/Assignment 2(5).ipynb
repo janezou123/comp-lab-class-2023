{
 "cells": [
  {
   "cell_type": "code",
   "execution_count": 1,
   "metadata": {},
   "outputs": [
    {
     "name": "stdout",
     "output_type": "stream",
     "text": [
      "Defaulting to user installation because normal site-packages is not writeable\n",
      "Requirement already satisfied: mdtraj in /home/hz2750/.local/lib/python3.8/site-packages (1.9.9)\n",
      "Requirement already satisfied: scipy in /share/apps/python/3.8.6/intel/lib/python3.8/site-packages/scipy-1.5.2-py3.8-linux-x86_64.egg (from mdtraj) (1.5.2)\n",
      "Requirement already satisfied: numpy>=1.6 in /share/apps/python/3.8.6/intel/lib/python3.8/site-packages/numpy-1.19.2-py3.8-linux-x86_64.egg (from mdtraj) (1.19.2)\n",
      "Requirement already satisfied: pyparsing in /share/apps/python/3.8.6/intel/lib/python3.8/site-packages (from mdtraj) (2.4.7)\n",
      "Requirement already satisfied: astunparse in /home/hz2750/.local/lib/python3.8/site-packages (from mdtraj) (1.6.3)\n",
      "Requirement already satisfied: six<2.0,>=1.6.1 in /share/apps/python/3.8.6/intel/lib/python3.8/site-packages (from astunparse->mdtraj) (1.15.0)\n",
      "Requirement already satisfied: wheel<1.0,>=0.23.0 in /share/apps/python/3.8.6/intel/lib/python3.8/site-packages (from astunparse->mdtraj) (0.35.1)\n",
      "\u001b[33mWARNING: You are using pip version 20.2.3; however, version 23.2.1 is available.\n",
      "You should consider upgrading via the '/share/apps/python/3.8.6/intel/bin/python -m pip install --upgrade pip' command.\u001b[0m\n",
      "Note: you may need to restart the kernel to use updated packages.\n"
     ]
    }
   ],
   "source": [
    "pip install mdtraj\n"
   ]
  },
  {
   "cell_type": "code",
   "execution_count": 5,
   "metadata": {},
   "outputs": [
    {
     "name": "stdout",
     "output_type": "stream",
     "text": [
      "Total number of hydrogen bonds: 0\n",
      "Number of helical amino acids: 18\n"
     ]
    }
   ],
   "source": [
    "import mdtraj as md\n",
    "import numpy as np\n",
    "\n",
    "# a) Read in the ubiquitin structure (assuming you have the PDB file)\n",
    "pdb_file = '/scratch/work/courses/CHEM-GA-2671-2023fa/students/hz2750/comp-lab-class-2023/Week2/Data/1UBQ.pdb'  # Replace with the actual path to your PDB file\n",
    "topology = md.load(pdb_file)\n",
    "\n",
    "# b) Print the total number of hydrogen bonds\n",
    "hbonds = md.baker_hubbard(topology)\n",
    "num_hbonds = len(hbonds)\n",
    "print(f\"Total number of hydrogen bonds: {num_hbonds}\")\n",
    "\n",
    "# c) Compute the number of helical amino acids\n",
    "# Assuming you are looking for alpha-helices (secondary structure)\n",
    "secondary_structure = md.compute_dssp(topology)\n",
    "\n",
    "# Use NumPy to count occurrences of 'H' in the secondary structure array\n",
    "num_helical_residues = np.sum(secondary_structure == 'H')\n",
    "print(f\"Number of helical amino acids: {num_helical_residues}\")"
   ]
  },
  {
   "cell_type": "code",
   "execution_count": null,
   "metadata": {},
   "outputs": [],
   "source": []
  }
 ],
 "metadata": {
  "kernelspec": {
   "display_name": "Python 3",
   "language": "python",
   "name": "python3"
  },
  "language_info": {
   "codemirror_mode": {
    "name": "ipython",
    "version": 3
   },
   "file_extension": ".py",
   "mimetype": "text/x-python",
   "name": "python",
   "nbconvert_exporter": "python",
   "pygments_lexer": "ipython3",
   "version": "3.8.6"
  }
 },
 "nbformat": 4,
 "nbformat_minor": 4
}
