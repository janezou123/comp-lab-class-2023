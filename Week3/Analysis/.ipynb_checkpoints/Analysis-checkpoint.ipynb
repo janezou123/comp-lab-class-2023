{
 "cells": [
  {
   "cell_type": "code",
   "execution_count": null,
   "metadata": {},
   "outputs": [],
   "source": [
    "#Analysis(code from GROMACS Tutorial Website)\n",
    "gmx_mpi trjconv -s md_0_1.tpr -f md_0_1.xtc -o md_0_1_noPBC.xtc -pbc mol -center\n",
    "gmx_mpi rms -s md_0_1.tpr -f md_0_1_noPBC.xtc -o rmsd.xvg -tu ns\n",
    "gmx_mpi rms -s em.tpr -f md_0_1_noPBC.xtc -o rmsd_xtal.xvg -tu ns\n",
    "gmx_mpi gyrate -s md_0_1.tpr -f md_0_1_noPBC.xtc -o gyrate.xvg\n",
    "\n",
    "#The job2.Sbatch I run for this analysis:\n",
    "#!/bin/bash\n",
    "#SBATCH --nodes=20\n",
    "#SBATCH --ntasks-per-node=1\n",
    "#SBATCH --cpus-per-task=1\n",
    "#SBATCH --time=24:00:00\n",
    "#SBATCH --mem=8GB\n",
    "#SBATCH --job-name=HW3\n",
    "#SBATCH --output=HZ_HW3.out\n",
    "\n",
    "module load gromacs/openmpi/intel/2020.4\n",
    "\n",
    "gmx_mpi grompp -f md.mdp -c npt.gro -t npt.cpt -p topol.top -o md_0_50.tpr\n",
    "gmx_mpi mdrun -deffnm md_0_50"
   ]
  }
 ],
 "metadata": {
  "kernelspec": {
   "display_name": "Bash",
   "language": "bash",
   "name": "bash"
  },
  "language_info": {
   "codemirror_mode": "shell",
   "file_extension": ".sh",
   "mimetype": "text/x-sh",
   "name": "bash"
  }
 },
 "nbformat": 4,
 "nbformat_minor": 4
}
