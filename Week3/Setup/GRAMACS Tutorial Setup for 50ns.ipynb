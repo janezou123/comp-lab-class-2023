{
 "cells": [
  {
   "cell_type": "code",
   "execution_count": null,
   "metadata": {},
   "outputs": [],
   "source": [
    "#Load Module Gromacs\n",
    "module load gromacs/openmpi/intel/2020.4\n",
    "\n",
    "#Tutorial Starts\n",
    "grep -v HOH 1aki.pdb > 1AKI_clean.pdb\n",
    "gmx_mpi pdb2gmx -f 1AKI_clean.pdb -o 1AKI_processed.gro -water spce\n",
    "#type 15,then type \"enter\"\n",
    "\n",
    "#define box and solvate\n",
    "gmx_mpi editconf -f 1AKI_processed.gro -o 1AKI_newbox.gro -c -d 1.0 -bt cubic\n",
    "\n",
    "gmx_mpi solvate -cp 1AKI_newbox.gro -cs spc216.gro -o 1AKI_solv.gro -p topol.top\n",
    "\n",
    "#add ions, energy minimization\n",
    "wget http://www.mdtutorials.com/gmx/lysozyme/Files/ions.mdp\n",
    "gmx_mpi grompp -f ions.mdp -c 1AKI_solv.gro -p topol.top -o ions.tpr\n",
    "gmx_mpi genion -s ions.tpr -o 1AKI_solv_ions.gro -p topol.top -pname NA -nname CL -neutral\n",
    "gmx_mpi grompp -f minim.mdp -c 1AKI_solv_ions.gro -p topol.top -o em.tpr\n",
    "gmx_mpi mdrun -v -deffnm em\n",
    "gmx_mpi energy -f em.edr -o potential.xvg\n",
    "\n",
    "#equilibration\n",
    "wget http://www.mdtutorials.com/gmx/lysozyme/Files/nvt.mdp\n",
    "gmx_mpi grompp -f nvt.mdp -c em.gro -r em.gro -p topol.top -o nvt.tpr\n",
    "\n",
    "gmx_mpi mdrun -deffnm nvt\n",
    "\n",
    "gmx_mpi energy -f nvt.edr -o temperature.xvg\n",
    "#type 16 0\n",
    "\n",
    "#production MD\n",
    "wget http://www.mdtutorials.com/gmx/lysozyme/Files/npt.mdp\n",
    "gmx_mpi grompp -f npt.mdp -c nvt.gro -r nvt.gro -t nvt.cpt -p topol.top -o npt.tpr\n",
    "\n",
    "gmx_mpi mdrun -deffnm npt\n",
    "gmx_mpi energy -f npt.edr -o pressure.xvg\n",
    "gmx_mpi energy -f npt.edr -o density.xvg\n",
    "gmx_mpi grompp -f md.mdp -c npt.gro -t npt.cpt -p topol.top -o md_0_1.tpr\n",
    "gmx_mpi mdrun -deffnm md_0_1\n",
    "gmx_mpi mdrun -deffnm md_0_1 -nb gpu\n",
    "\n"
   ]
  }
 ],
 "metadata": {
  "kernelspec": {
   "display_name": "Bash",
   "language": "bash",
   "name": "bash"
  },
  "language_info": {
   "codemirror_mode": "shell",
   "file_extension": ".sh",
   "mimetype": "text/x-sh",
   "name": "bash"
  }
 },
 "nbformat": 4,
 "nbformat_minor": 4
}
