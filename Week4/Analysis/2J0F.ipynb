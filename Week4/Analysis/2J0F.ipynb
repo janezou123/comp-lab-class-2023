{
 "cells": [
  {
   "cell_type": "code",
   "execution_count": 17,
   "metadata": {},
   "outputs": [
    {
     "name": "stdout",
     "output_type": "stream",
     "text": [
      "Defaulting to user installation because normal site-packages is not writeable\n",
      "Requirement already up-to-date: MDAnalysis in /home/hz2750/.local/lib/python3.8/site-packages (2.4.3)\n",
      "Requirement already satisfied, skipping upgrade: joblib>=0.12 in /home/hz2750/.local/lib/python3.8/site-packages (from MDAnalysis) (1.3.2)\n",
      "Requirement already satisfied, skipping upgrade: tqdm>=4.43.0 in /home/hz2750/.local/lib/python3.8/site-packages (from MDAnalysis) (4.66.1)\n",
      "Requirement already satisfied, skipping upgrade: gsd>=1.9.3 in /home/hz2750/.local/lib/python3.8/site-packages (from MDAnalysis) (3.2.0)\n",
      "Requirement already satisfied, skipping upgrade: fasteners in /home/hz2750/.local/lib/python3.8/site-packages (from MDAnalysis) (0.19)\n",
      "Requirement already satisfied, skipping upgrade: packaging in /share/apps/python/3.8.6/intel/lib/python3.8/site-packages (from MDAnalysis) (20.4)\n",
      "Requirement already satisfied, skipping upgrade: threadpoolctl in /home/hz2750/.local/lib/python3.8/site-packages (from MDAnalysis) (3.2.0)\n",
      "Requirement already satisfied, skipping upgrade: GridDataFormats>=0.4.0 in /home/hz2750/.local/lib/python3.8/site-packages (from MDAnalysis) (1.0.1)\n",
      "Requirement already satisfied, skipping upgrade: scipy>=1.5.0 in /share/apps/python/3.8.6/intel/lib/python3.8/site-packages/scipy-1.5.2-py3.8-linux-x86_64.egg (from MDAnalysis) (1.5.2)\n",
      "Requirement already satisfied, skipping upgrade: numpy>=1.20.0 in /home/hz2750/.local/lib/python3.8/site-packages (from MDAnalysis) (1.24.4)\n",
      "Requirement already satisfied, skipping upgrade: matplotlib>=1.5.1 in /share/apps/python/3.8.6/intel/lib/python3.8/site-packages (from MDAnalysis) (3.3.2)\n",
      "Requirement already satisfied, skipping upgrade: biopython>=1.80 in /home/hz2750/.local/lib/python3.8/site-packages (from MDAnalysis) (1.81)\n",
      "Requirement already satisfied, skipping upgrade: mmtf-python>=1.0.0 in /home/hz2750/.local/lib/python3.8/site-packages (from MDAnalysis) (1.1.3)\n",
      "Requirement already satisfied, skipping upgrade: networkx>=2.0 in /home/hz2750/.local/lib/python3.8/site-packages (from MDAnalysis) (3.1)\n",
      "Requirement already satisfied, skipping upgrade: six in /share/apps/python/3.8.6/intel/lib/python3.8/site-packages (from packaging->MDAnalysis) (1.15.0)\n",
      "Requirement already satisfied, skipping upgrade: pyparsing>=2.0.2 in /share/apps/python/3.8.6/intel/lib/python3.8/site-packages (from packaging->MDAnalysis) (2.4.7)\n",
      "Requirement already satisfied, skipping upgrade: mrcfile in /home/hz2750/.local/lib/python3.8/site-packages (from GridDataFormats>=0.4.0->MDAnalysis) (1.4.3)\n",
      "Requirement already satisfied, skipping upgrade: cycler>=0.10 in /share/apps/python/3.8.6/intel/lib/python3.8/site-packages (from matplotlib>=1.5.1->MDAnalysis) (0.10.0)\n",
      "Requirement already satisfied, skipping upgrade: certifi>=2020.06.20 in /share/apps/python/3.8.6/intel/lib/python3.8/site-packages (from matplotlib>=1.5.1->MDAnalysis) (2020.6.20)\n",
      "Requirement already satisfied, skipping upgrade: kiwisolver>=1.0.1 in /share/apps/python/3.8.6/intel/lib/python3.8/site-packages (from matplotlib>=1.5.1->MDAnalysis) (1.2.0)\n",
      "Requirement already satisfied, skipping upgrade: python-dateutil>=2.1 in /share/apps/python/3.8.6/intel/lib/python3.8/site-packages (from matplotlib>=1.5.1->MDAnalysis) (2.8.1)\n",
      "Requirement already satisfied, skipping upgrade: pillow>=6.2.0 in /share/apps/python/3.8.6/intel/lib/python3.8/site-packages (from matplotlib>=1.5.1->MDAnalysis) (8.0.1)\n",
      "Requirement already satisfied, skipping upgrade: msgpack>=1.0.0 in /home/hz2750/.local/lib/python3.8/site-packages (from mmtf-python>=1.0.0->MDAnalysis) (1.0.7)\n",
      "\u001b[33mWARNING: You are using pip version 20.2.3; however, version 23.2.1 is available.\n",
      "You should consider upgrading via the '/share/apps/python/3.8.6/intel/bin/python -m pip install --upgrade pip' command.\u001b[0m\n"
     ]
    }
   ],
   "source": [
    "\n",
    "!pip install --upgrade MDAnalysis"
   ]
  },
  {
   "cell_type": "code",
   "execution_count": 44,
   "metadata": {
    "scrolled": true
   },
   "outputs": [],
   "source": [
    "import os\n",
    "import numpy as np\n",
    "import matplotlib.pyplot as plt\n",
    "from MDAnalysis.analysis import rms, distances\n",
    "import MDAnalysis as mda\n",
    "\n",
    "\n",
    "\n"
   ]
  },
  {
   "cell_type": "code",
   "execution_count": 55,
   "metadata": {},
   "outputs": [],
   "source": [
    "# Load the trajectory with the solvent removed\n",
    "u = mda.Universe(\"/home/hz2750/comp-lab-class/comp-lab-class-2023/Week4/Setup/2J0F/gromacs/solv_removed_protein.xtc\")"
   ]
  },
  {
   "cell_type": "code",
   "execution_count": 56,
   "metadata": {},
   "outputs": [],
   "source": [
    "# Calculate end-to-end distance and radius of gyration\n",
    "end_to_end_distances = []\n",
    "radii_of_gyration = []\n",
    "\n",
    "\n"
   ]
  },
  {
   "cell_type": "code",
   "execution_count": 57,
   "metadata": {},
   "outputs": [
    {
     "ename": "AttributeError",
     "evalue": "'Topology' object has no attribute 'names'",
     "output_type": "error",
     "traceback": [
      "\u001b[0;31m---------------------------------------------------------------------------\u001b[0m",
      "\u001b[0;31mAttributeError\u001b[0m                            Traceback (most recent call last)",
      "\u001b[0;32m<ipython-input-57-dfb67f9941d1>\u001b[0m in \u001b[0;36m<module>\u001b[0;34m\u001b[0m\n\u001b[1;32m      1\u001b[0m \u001b[0;31m# Define the selections based on atom names\u001b[0m\u001b[0;34m\u001b[0m\u001b[0;34m\u001b[0m\u001b[0;34m\u001b[0m\u001b[0m\n\u001b[0;32m----> 2\u001b[0;31m \u001b[0mselection_ca\u001b[0m \u001b[0;34m=\u001b[0m \u001b[0mu\u001b[0m\u001b[0;34m.\u001b[0m\u001b[0mselect_atoms\u001b[0m\u001b[0;34m(\u001b[0m\u001b[0;34m\"name CA\"\u001b[0m\u001b[0;34m)\u001b[0m\u001b[0;34m\u001b[0m\u001b[0;34m\u001b[0m\u001b[0m\n\u001b[0m\u001b[1;32m      3\u001b[0m \u001b[0;32mfor\u001b[0m \u001b[0mts\u001b[0m \u001b[0;32min\u001b[0m \u001b[0mu\u001b[0m\u001b[0;34m.\u001b[0m\u001b[0mtrajectory\u001b[0m\u001b[0;34m:\u001b[0m\u001b[0;34m\u001b[0m\u001b[0;34m\u001b[0m\u001b[0m\n\u001b[1;32m      4\u001b[0m     \u001b[0;31m# Calculate end-to-end distance\u001b[0m\u001b[0;34m\u001b[0m\u001b[0;34m\u001b[0m\u001b[0;34m\u001b[0m\u001b[0m\n\u001b[1;32m      5\u001b[0m     end_to_end_distance = distances.distance_array(\n",
      "\u001b[0;32m~/.local/lib/python3.8/site-packages/MDAnalysis/core/universe.py\u001b[0m in \u001b[0;36mselect_atoms\u001b[0;34m(self, *args, **kwargs)\u001b[0m\n\u001b[1;32m    659\u001b[0m         \u001b[0;34m:\u001b[0m\u001b[0mmeth\u001b[0m\u001b[0;34m:\u001b[0m\u001b[0;31m`\u001b[0m\u001b[0mMDAnalysis\u001b[0m\u001b[0;34m.\u001b[0m\u001b[0mcore\u001b[0m\u001b[0;34m.\u001b[0m\u001b[0mgroups\u001b[0m\u001b[0;34m.\u001b[0m\u001b[0mAtomGroup\u001b[0m\u001b[0;34m.\u001b[0m\u001b[0mselect_atoms\u001b[0m\u001b[0;31m`\u001b[0m\u001b[0;34m\u001b[0m\u001b[0;34m\u001b[0m\u001b[0m\n\u001b[1;32m    660\u001b[0m         \"\"\"\n\u001b[0;32m--> 661\u001b[0;31m         \u001b[0;32mreturn\u001b[0m \u001b[0mself\u001b[0m\u001b[0;34m.\u001b[0m\u001b[0matoms\u001b[0m\u001b[0;34m.\u001b[0m\u001b[0mselect_atoms\u001b[0m\u001b[0;34m(\u001b[0m\u001b[0;34m*\u001b[0m\u001b[0margs\u001b[0m\u001b[0;34m,\u001b[0m \u001b[0;34m**\u001b[0m\u001b[0mkwargs\u001b[0m\u001b[0;34m)\u001b[0m\u001b[0;34m\u001b[0m\u001b[0;34m\u001b[0m\u001b[0m\n\u001b[0m\u001b[1;32m    662\u001b[0m \u001b[0;34m\u001b[0m\u001b[0m\n\u001b[1;32m    663\u001b[0m     \u001b[0;34m@\u001b[0m\u001b[0mproperty\u001b[0m\u001b[0;34m\u001b[0m\u001b[0;34m\u001b[0m\u001b[0m\n",
      "\u001b[0;32m~/.local/lib/python3.8/site-packages/MDAnalysis/core/groups.py\u001b[0m in \u001b[0;36mselect_atoms\u001b[0;34m(self, sel, periodic, rtol, atol, updating, sorted, rdkit_kwargs, smarts_kwargs, *othersel, **selgroups)\u001b[0m\n\u001b[1;32m   3229\u001b[0m             \u001b[0;31m# Apply the first selection and sum to it\u001b[0m\u001b[0;34m\u001b[0m\u001b[0;34m\u001b[0m\u001b[0;34m\u001b[0m\u001b[0m\n\u001b[1;32m   3230\u001b[0m             atomgrp = sum([sel.apply(self) for sel in selections[1:]],\n\u001b[0;32m-> 3231\u001b[0;31m                           selections[0].apply(self))\n\u001b[0m\u001b[1;32m   3232\u001b[0m         \u001b[0;32mreturn\u001b[0m \u001b[0matomgrp\u001b[0m\u001b[0;34m\u001b[0m\u001b[0;34m\u001b[0m\u001b[0m\n\u001b[1;32m   3233\u001b[0m \u001b[0;34m\u001b[0m\u001b[0m\n",
      "\u001b[0;32m~/.local/lib/python3.8/site-packages/MDAnalysis/core/selection.py\u001b[0m in \u001b[0;36mapply\u001b[0;34m(self, *args, **kwargs)\u001b[0m\n\u001b[1;32m    239\u001b[0m \u001b[0;34m\u001b[0m\u001b[0m\n\u001b[1;32m    240\u001b[0m     \u001b[0;32mdef\u001b[0m \u001b[0mapply\u001b[0m\u001b[0;34m(\u001b[0m\u001b[0mself\u001b[0m\u001b[0;34m,\u001b[0m \u001b[0;34m*\u001b[0m\u001b[0margs\u001b[0m\u001b[0;34m,\u001b[0m \u001b[0;34m**\u001b[0m\u001b[0mkwargs\u001b[0m\u001b[0;34m)\u001b[0m\u001b[0;34m:\u001b[0m\u001b[0;34m\u001b[0m\u001b[0;34m\u001b[0m\u001b[0m\n\u001b[0;32m--> 241\u001b[0;31m         \u001b[0;32mreturn\u001b[0m \u001b[0mself\u001b[0m\u001b[0;34m.\u001b[0m\u001b[0m_apply\u001b[0m\u001b[0;34m(\u001b[0m\u001b[0;34m*\u001b[0m\u001b[0margs\u001b[0m\u001b[0;34m,\u001b[0m \u001b[0;34m**\u001b[0m\u001b[0mkwargs\u001b[0m\u001b[0;34m)\u001b[0m\u001b[0;34m.\u001b[0m\u001b[0masunique\u001b[0m\u001b[0;34m(\u001b[0m\u001b[0msorted\u001b[0m\u001b[0;34m=\u001b[0m\u001b[0mself\u001b[0m\u001b[0;34m.\u001b[0m\u001b[0mparser\u001b[0m\u001b[0;34m.\u001b[0m\u001b[0msorted\u001b[0m\u001b[0;34m)\u001b[0m\u001b[0;34m\u001b[0m\u001b[0;34m\u001b[0m\u001b[0m\n\u001b[0m\u001b[1;32m    242\u001b[0m \u001b[0;34m\u001b[0m\u001b[0m\n\u001b[1;32m    243\u001b[0m \u001b[0;34m\u001b[0m\u001b[0m\n",
      "\u001b[0;32m~/.local/lib/python3.8/site-packages/MDAnalysis/core/selection.py\u001b[0m in \u001b[0;36m_apply\u001b[0;34m(self, group)\u001b[0m\n\u001b[1;32m    219\u001b[0m         \u001b[0;32mif\u001b[0m \u001b[0mlen\u001b[0m\u001b[0;34m(\u001b[0m\u001b[0mgroup\u001b[0m\u001b[0;34m)\u001b[0m \u001b[0;34m==\u001b[0m \u001b[0;36m0\u001b[0m\u001b[0;34m:\u001b[0m\u001b[0;34m\u001b[0m\u001b[0;34m\u001b[0m\u001b[0m\n\u001b[1;32m    220\u001b[0m             \u001b[0;32mreturn\u001b[0m \u001b[0mgroup\u001b[0m\u001b[0;34m\u001b[0m\u001b[0;34m\u001b[0m\u001b[0m\n\u001b[0;32m--> 221\u001b[0;31m         \u001b[0;32mreturn\u001b[0m \u001b[0mfunc\u001b[0m\u001b[0;34m(\u001b[0m\u001b[0mself\u001b[0m\u001b[0;34m,\u001b[0m \u001b[0mgroup\u001b[0m\u001b[0;34m)\u001b[0m\u001b[0;34m\u001b[0m\u001b[0;34m\u001b[0m\u001b[0m\n\u001b[0m\u001b[1;32m    222\u001b[0m     \u001b[0;32mreturn\u001b[0m \u001b[0m_apply\u001b[0m\u001b[0;34m\u001b[0m\u001b[0;34m\u001b[0m\u001b[0m\n\u001b[1;32m    223\u001b[0m \u001b[0;34m\u001b[0m\u001b[0m\n",
      "\u001b[0;32m~/.local/lib/python3.8/site-packages/MDAnalysis/core/selection.py\u001b[0m in \u001b[0;36m_apply\u001b[0;34m(self, group)\u001b[0m\n\u001b[1;32m    647\u001b[0m     \u001b[0;32mdef\u001b[0m \u001b[0m_apply\u001b[0m\u001b[0;34m(\u001b[0m\u001b[0mself\u001b[0m\u001b[0;34m,\u001b[0m \u001b[0mgroup\u001b[0m\u001b[0;34m)\u001b[0m\u001b[0;34m:\u001b[0m\u001b[0;34m\u001b[0m\u001b[0;34m\u001b[0m\u001b[0m\n\u001b[1;32m    648\u001b[0m         \u001b[0;31m# rather than work on group.names, cheat and look at the lookup table\u001b[0m\u001b[0;34m\u001b[0m\u001b[0;34m\u001b[0m\u001b[0;34m\u001b[0m\u001b[0m\n\u001b[0;32m--> 649\u001b[0;31m         \u001b[0mnmattr\u001b[0m \u001b[0;34m=\u001b[0m \u001b[0mgetattr\u001b[0m\u001b[0;34m(\u001b[0m\u001b[0mgroup\u001b[0m\u001b[0;34m.\u001b[0m\u001b[0muniverse\u001b[0m\u001b[0;34m.\u001b[0m\u001b[0m_topology\u001b[0m\u001b[0;34m,\u001b[0m \u001b[0mself\u001b[0m\u001b[0;34m.\u001b[0m\u001b[0mfield\u001b[0m\u001b[0;34m)\u001b[0m\u001b[0;34m\u001b[0m\u001b[0;34m\u001b[0m\u001b[0m\n\u001b[0m\u001b[1;32m    650\u001b[0m \u001b[0;34m\u001b[0m\u001b[0m\n\u001b[1;32m    651\u001b[0m         \u001b[0mmatches\u001b[0m \u001b[0;34m=\u001b[0m \u001b[0;34m[\u001b[0m\u001b[0;34m]\u001b[0m  \u001b[0;31m# list of passing indices\u001b[0m\u001b[0;34m\u001b[0m\u001b[0;34m\u001b[0m\u001b[0m\n",
      "\u001b[0;31mAttributeError\u001b[0m: 'Topology' object has no attribute 'names'"
     ]
    }
   ],
   "source": [
    "# Define the selections based on atom names\n",
    "selection_ca = u.select_atoms(\"name CA\")\n",
    "for ts in u.trajectory:\n",
    "    # Calculate end-to-end distance\n",
    "    end_to_end_distance = distances.distance_array(\n",
    "        selection_ca.coordinates()[0],\n",
    "        selection_ca.coordinates()[-1],\n",
    "        box=ts.dimensions\n",
    "    )\n",
    "    end_to_end_distances.append(end_to_end_distance[0, 0])  # Select the distance value.\n",
    "\n",
    "    # Calculate radius of gyration\n",
    "    radius_of_gyration = selection_ca.radius_of_gyration(pbc=False)\n",
    "    radii_of_gyration.append(radius_of_gyration)\n"
   ]
  },
  {
   "cell_type": "code",
   "execution_count": 58,
   "metadata": {},
   "outputs": [
    {
     "ename": "AttributeError",
     "evalue": "'XTCReader' object has no attribute 'times'",
     "output_type": "error",
     "traceback": [
      "\u001b[0;31m---------------------------------------------------------------------------\u001b[0m",
      "\u001b[0;31mAttributeError\u001b[0m                            Traceback (most recent call last)",
      "\u001b[0;32m<ipython-input-58-26bca113642d>\u001b[0m in \u001b[0;36m<module>\u001b[0;34m\u001b[0m\n\u001b[1;32m      1\u001b[0m \u001b[0;31m# Convert time values to picoseconds (assuming your trajectory was in ps)\u001b[0m\u001b[0;34m\u001b[0m\u001b[0;34m\u001b[0m\u001b[0;34m\u001b[0m\u001b[0m\n\u001b[0;32m----> 2\u001b[0;31m \u001b[0mtime_ps\u001b[0m \u001b[0;34m=\u001b[0m \u001b[0mu\u001b[0m\u001b[0;34m.\u001b[0m\u001b[0mtrajectory\u001b[0m\u001b[0;34m.\u001b[0m\u001b[0mtimes\u001b[0m\u001b[0;34m\u001b[0m\u001b[0;34m\u001b[0m\u001b[0m\n\u001b[0m\u001b[1;32m      3\u001b[0m \u001b[0;34m\u001b[0m\u001b[0m\n\u001b[1;32m      4\u001b[0m \u001b[0;31m# Create well-labeled plots\u001b[0m\u001b[0;34m\u001b[0m\u001b[0;34m\u001b[0m\u001b[0;34m\u001b[0m\u001b[0m\n\u001b[1;32m      5\u001b[0m \u001b[0mplt\u001b[0m\u001b[0;34m.\u001b[0m\u001b[0mfigure\u001b[0m\u001b[0;34m(\u001b[0m\u001b[0mfigsize\u001b[0m\u001b[0;34m=\u001b[0m\u001b[0;34m(\u001b[0m\u001b[0;36m12\u001b[0m\u001b[0;34m,\u001b[0m \u001b[0;36m5\u001b[0m\u001b[0;34m)\u001b[0m\u001b[0;34m)\u001b[0m\u001b[0;34m\u001b[0m\u001b[0;34m\u001b[0m\u001b[0m\n",
      "\u001b[0;31mAttributeError\u001b[0m: 'XTCReader' object has no attribute 'times'"
     ]
    }
   ],
   "source": [
    "# Convert time values to picoseconds (assuming your trajectory was in ps)\n",
    "time_ps = u.trajectory.times\n",
    "\n",
    "# Create well-labeled plots\n",
    "plt.figure(figsize=(12, 5))\n",
    "\n",
    "plt.subplot(1, 2, 1)\n",
    "plt.plot(time_ps, end_to_end_distances)\n",
    "plt.xlabel(\"Time (ps)\")\n",
    "plt.ylabel(\"End-to-End Distance (nm)\")\n",
    "plt.title(\"End-to-End Distance vs. Time\")\n",
    "plt.savefig(\"/home/hz2750/comp-lab-class/comp-lab-class-2023/Week4/Figures/end_to_end_distance.png\")  # Save the figure\n",
    "\n",
    "plt.subplot(1, 2, 2)\n",
    "plt.plot(time_ps, radii_of_gyration)\n",
    "plt.xlabel(\"Time (ps)\")\n",
    "plt.ylabel(\"Radius of Gyration (nm)\")\n",
    "plt.title(\"Radius of Gyration vs. Time\")\n",
    "plt.savefig(\"/home/hz2750/comp-lab-class/comp-lab-class-2023/Week4/Figures/radius_of_gyration.png\")  # Save the figure\n",
    "\n",
    "plt.tight_layout()\n",
    "plt.show()"
   ]
  }
 ],
 "metadata": {
  "kernelspec": {
   "display_name": "Python 3",
   "language": "python",
   "name": "python3"
  },
  "language_info": {
   "codemirror_mode": {
    "name": "ipython",
    "version": 3
   },
   "file_extension": ".py",
   "mimetype": "text/x-python",
   "name": "python",
   "nbconvert_exporter": "python",
   "pygments_lexer": "ipython3",
   "version": "3.8.6"
  }
 },
 "nbformat": 4,
 "nbformat_minor": 4
}
