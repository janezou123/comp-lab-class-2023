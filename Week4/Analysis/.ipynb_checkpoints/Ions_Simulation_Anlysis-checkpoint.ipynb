{
 "cells": [
  {
   "cell_type": "code",
   "execution_count": 4,
   "metadata": {},
   "outputs": [
    {
     "name": "stdout",
     "output_type": "stream",
     "text": [
      "Defaulting to user installation because normal site-packages is not writeable\n",
      "Requirement already satisfied: mdtraj in /home/hz2750/.local/lib/python3.8/site-packages (1.9.9)\n",
      "Requirement already satisfied: astunparse in /home/hz2750/.local/lib/python3.8/site-packages (from mdtraj) (1.6.3)\n",
      "Requirement already satisfied: pyparsing in /share/apps/python/3.8.6/intel/lib/python3.8/site-packages (from mdtraj) (2.4.7)\n",
      "Requirement already satisfied: scipy in /share/apps/python/3.8.6/intel/lib/python3.8/site-packages/scipy-1.5.2-py3.8-linux-x86_64.egg (from mdtraj) (1.5.2)\n",
      "Requirement already satisfied: numpy>=1.6 in /home/hz2750/.local/lib/python3.8/site-packages (from mdtraj) (1.24.4)\n",
      "Requirement already satisfied: six<2.0,>=1.6.1 in /share/apps/python/3.8.6/intel/lib/python3.8/site-packages (from astunparse->mdtraj) (1.15.0)\n",
      "Requirement already satisfied: wheel<1.0,>=0.23.0 in /share/apps/python/3.8.6/intel/lib/python3.8/site-packages (from astunparse->mdtraj) (0.35.1)\n",
      "\u001b[33mWARNING: You are using pip version 20.2.3; however, version 23.2.1 is available.\n",
      "You should consider upgrading via the '/share/apps/python/3.8.6/intel/bin/python -m pip install --upgrade pip' command.\u001b[0m\n",
      "Note: you may need to restart the kernel to use updated packages.\n"
     ]
    }
   ],
   "source": [
    "pip install mdtraj\n"
   ]
  },
  {
   "cell_type": "code",
   "execution_count": 5,
   "metadata": {},
   "outputs": [
    {
     "name": "stdout",
     "output_type": "stream",
     "text": [
      "Defaulting to user installation because normal site-packages is not writeable\n",
      "Requirement already satisfied: MDAnalysis in /home/hz2750/.local/lib/python3.8/site-packages (2.4.3)\n",
      "Requirement already satisfied: mmtf-python>=1.0.0 in /home/hz2750/.local/lib/python3.8/site-packages (from MDAnalysis) (1.1.3)\n",
      "Requirement already satisfied: matplotlib>=1.5.1 in /share/apps/python/3.8.6/intel/lib/python3.8/site-packages (from MDAnalysis) (3.3.2)\n",
      "Requirement already satisfied: threadpoolctl in /home/hz2750/.local/lib/python3.8/site-packages (from MDAnalysis) (3.2.0)\n",
      "Requirement already satisfied: gsd>=1.9.3 in /home/hz2750/.local/lib/python3.8/site-packages (from MDAnalysis) (3.2.0)\n",
      "Requirement already satisfied: fasteners in /home/hz2750/.local/lib/python3.8/site-packages (from MDAnalysis) (0.19)\n",
      "Requirement already satisfied: packaging in /share/apps/python/3.8.6/intel/lib/python3.8/site-packages (from MDAnalysis) (20.4)\n",
      "Requirement already satisfied: biopython>=1.80 in /home/hz2750/.local/lib/python3.8/site-packages (from MDAnalysis) (1.81)\n",
      "Requirement already satisfied: GridDataFormats>=0.4.0 in /home/hz2750/.local/lib/python3.8/site-packages (from MDAnalysis) (1.0.1)\n",
      "Requirement already satisfied: scipy>=1.5.0 in /share/apps/python/3.8.6/intel/lib/python3.8/site-packages/scipy-1.5.2-py3.8-linux-x86_64.egg (from MDAnalysis) (1.5.2)\n",
      "Requirement already satisfied: numpy>=1.20.0 in /home/hz2750/.local/lib/python3.8/site-packages (from MDAnalysis) (1.24.4)\n",
      "Requirement already satisfied: tqdm>=4.43.0 in /home/hz2750/.local/lib/python3.8/site-packages (from MDAnalysis) (4.66.1)\n",
      "Requirement already satisfied: networkx>=2.0 in /home/hz2750/.local/lib/python3.8/site-packages (from MDAnalysis) (3.1)\n",
      "Requirement already satisfied: joblib>=0.12 in /home/hz2750/.local/lib/python3.8/site-packages (from MDAnalysis) (1.3.2)\n",
      "Requirement already satisfied: msgpack>=1.0.0 in /home/hz2750/.local/lib/python3.8/site-packages (from mmtf-python>=1.0.0->MDAnalysis) (1.0.7)\n",
      "Requirement already satisfied: python-dateutil>=2.1 in /share/apps/python/3.8.6/intel/lib/python3.8/site-packages (from matplotlib>=1.5.1->MDAnalysis) (2.8.1)\n",
      "Requirement already satisfied: certifi>=2020.06.20 in /share/apps/python/3.8.6/intel/lib/python3.8/site-packages (from matplotlib>=1.5.1->MDAnalysis) (2020.6.20)\n",
      "Requirement already satisfied: kiwisolver>=1.0.1 in /share/apps/python/3.8.6/intel/lib/python3.8/site-packages (from matplotlib>=1.5.1->MDAnalysis) (1.2.0)\n",
      "Requirement already satisfied: pillow>=6.2.0 in /share/apps/python/3.8.6/intel/lib/python3.8/site-packages (from matplotlib>=1.5.1->MDAnalysis) (8.0.1)\n",
      "Requirement already satisfied: pyparsing!=2.0.4,!=2.1.2,!=2.1.6,>=2.0.3 in /share/apps/python/3.8.6/intel/lib/python3.8/site-packages (from matplotlib>=1.5.1->MDAnalysis) (2.4.7)\n",
      "Requirement already satisfied: cycler>=0.10 in /share/apps/python/3.8.6/intel/lib/python3.8/site-packages (from matplotlib>=1.5.1->MDAnalysis) (0.10.0)\n",
      "Requirement already satisfied: six in /share/apps/python/3.8.6/intel/lib/python3.8/site-packages (from packaging->MDAnalysis) (1.15.0)\n",
      "Requirement already satisfied: mrcfile in /home/hz2750/.local/lib/python3.8/site-packages (from GridDataFormats>=0.4.0->MDAnalysis) (1.4.3)\n",
      "\u001b[33mWARNING: You are using pip version 20.2.3; however, version 23.2.1 is available.\n",
      "You should consider upgrading via the '/share/apps/python/3.8.6/intel/bin/python -m pip install --upgrade pip' command.\u001b[0m\n",
      "Note: you may need to restart the kernel to use updated packages.\n"
     ]
    }
   ],
   "source": [
    "pip install MDAnalysis\n"
   ]
  },
  {
   "cell_type": "code",
   "execution_count": 11,
   "metadata": {},
   "outputs": [
    {
     "name": "stdout",
     "output_type": "stream",
     "text": [
      "Defaulting to user installation because normal site-packages is not writeable\n",
      "Requirement already up-to-date: MDAnalysis in /home/hz2750/.local/lib/python3.8/site-packages (2.4.3)\n",
      "Requirement already satisfied, skipping upgrade: matplotlib>=1.5.1 in /share/apps/python/3.8.6/intel/lib/python3.8/site-packages (from MDAnalysis) (3.3.2)\n",
      "Requirement already satisfied, skipping upgrade: tqdm>=4.43.0 in /home/hz2750/.local/lib/python3.8/site-packages (from MDAnalysis) (4.66.1)\n",
      "Requirement already satisfied, skipping upgrade: fasteners in /home/hz2750/.local/lib/python3.8/site-packages (from MDAnalysis) (0.19)\n",
      "Requirement already satisfied, skipping upgrade: GridDataFormats>=0.4.0 in /home/hz2750/.local/lib/python3.8/site-packages (from MDAnalysis) (1.0.1)\n",
      "Requirement already satisfied, skipping upgrade: packaging in /share/apps/python/3.8.6/intel/lib/python3.8/site-packages (from MDAnalysis) (20.4)\n",
      "Requirement already satisfied, skipping upgrade: mmtf-python>=1.0.0 in /home/hz2750/.local/lib/python3.8/site-packages (from MDAnalysis) (1.1.3)\n",
      "Requirement already satisfied, skipping upgrade: biopython>=1.80 in /home/hz2750/.local/lib/python3.8/site-packages (from MDAnalysis) (1.81)\n",
      "Requirement already satisfied, skipping upgrade: networkx>=2.0 in /home/hz2750/.local/lib/python3.8/site-packages (from MDAnalysis) (3.1)\n",
      "Requirement already satisfied, skipping upgrade: joblib>=0.12 in /home/hz2750/.local/lib/python3.8/site-packages (from MDAnalysis) (1.3.2)\n",
      "Requirement already satisfied, skipping upgrade: gsd>=1.9.3 in /home/hz2750/.local/lib/python3.8/site-packages (from MDAnalysis) (3.2.0)\n",
      "Requirement already satisfied, skipping upgrade: threadpoolctl in /home/hz2750/.local/lib/python3.8/site-packages (from MDAnalysis) (3.2.0)\n",
      "Requirement already satisfied, skipping upgrade: scipy>=1.5.0 in /share/apps/python/3.8.6/intel/lib/python3.8/site-packages/scipy-1.5.2-py3.8-linux-x86_64.egg (from MDAnalysis) (1.5.2)\n",
      "Requirement already satisfied, skipping upgrade: numpy>=1.20.0 in /home/hz2750/.local/lib/python3.8/site-packages (from MDAnalysis) (1.24.4)\n",
      "Requirement already satisfied, skipping upgrade: python-dateutil>=2.1 in /share/apps/python/3.8.6/intel/lib/python3.8/site-packages (from matplotlib>=1.5.1->MDAnalysis) (2.8.1)\n",
      "Requirement already satisfied, skipping upgrade: kiwisolver>=1.0.1 in /share/apps/python/3.8.6/intel/lib/python3.8/site-packages (from matplotlib>=1.5.1->MDAnalysis) (1.2.0)\n",
      "Requirement already satisfied, skipping upgrade: pillow>=6.2.0 in /share/apps/python/3.8.6/intel/lib/python3.8/site-packages (from matplotlib>=1.5.1->MDAnalysis) (8.0.1)\n",
      "Requirement already satisfied, skipping upgrade: certifi>=2020.06.20 in /share/apps/python/3.8.6/intel/lib/python3.8/site-packages (from matplotlib>=1.5.1->MDAnalysis) (2020.6.20)\n",
      "Requirement already satisfied, skipping upgrade: pyparsing!=2.0.4,!=2.1.2,!=2.1.6,>=2.0.3 in /share/apps/python/3.8.6/intel/lib/python3.8/site-packages (from matplotlib>=1.5.1->MDAnalysis) (2.4.7)\n",
      "Requirement already satisfied, skipping upgrade: cycler>=0.10 in /share/apps/python/3.8.6/intel/lib/python3.8/site-packages (from matplotlib>=1.5.1->MDAnalysis) (0.10.0)\n",
      "Requirement already satisfied, skipping upgrade: mrcfile in /home/hz2750/.local/lib/python3.8/site-packages (from GridDataFormats>=0.4.0->MDAnalysis) (1.4.3)\n",
      "Requirement already satisfied, skipping upgrade: six in /share/apps/python/3.8.6/intel/lib/python3.8/site-packages (from packaging->MDAnalysis) (1.15.0)\n",
      "Requirement already satisfied, skipping upgrade: msgpack>=1.0.0 in /home/hz2750/.local/lib/python3.8/site-packages (from mmtf-python>=1.0.0->MDAnalysis) (1.0.7)\n",
      "\u001b[33mWARNING: You are using pip version 20.2.3; however, version 23.2.1 is available.\n",
      "You should consider upgrading via the '/share/apps/python/3.8.6/intel/bin/python -m pip install --upgrade pip' command.\u001b[0m\n"
     ]
    }
   ],
   "source": [
    "!pip install --upgrade MDAnalysis\n"
   ]
  },
  {
   "cell_type": "code",
   "execution_count": 13,
   "metadata": {},
   "outputs": [],
   "source": [
    "import MDAnalysis.analysis as analysis\n"
   ]
  },
  {
   "cell_type": "code",
   "execution_count": 12,
   "metadata": {},
   "outputs": [],
   "source": [
    "import MDAnalysis as mda\n",
    "import matplotlib.pyplot as plt\n",
    "\n"
   ]
  },
  {
   "cell_type": "code",
   "execution_count": 7,
   "metadata": {},
   "outputs": [],
   "source": [
    "# Load the XTC trajectory and PDB topology files\n",
    "import MDAnalysis as mda\n",
    "\n"
   ]
  },
  {
   "cell_type": "code",
   "execution_count": 8,
   "metadata": {},
   "outputs": [],
   "source": [
    "# Load the XTC trajectory and PDB topology files\n",
    "u = mda.Universe(\"/home/hz2750/comp-lab-class/comp-lab-class-2023/Week4/Setup/Ions_Simulation/gromacs/step3_input.pdb\", \"/home/hz2750/comp-lab-class/comp-lab-class-2023/Week4/Setup/Ions_Simulation/gromacs/combined_traj2.xtc\")\n",
    "\n"
   ]
  },
  {
   "cell_type": "code",
   "execution_count": 9,
   "metadata": {},
   "outputs": [],
   "source": [
    "# Define atom selections based on CHARMM naming conventions (adjust as needed)\n",
    "water_oxygens = u.select_atoms(\"name OW\")\n",
    "sodium_ions = u.select_atoms(\"resname SOD\")\n",
    "all_oxygens = u.select_atoms(\"name O\")"
   ]
  },
  {
   "cell_type": "code",
   "execution_count": 10,
   "metadata": {},
   "outputs": [
    {
     "ename": "AttributeError",
     "evalue": "module 'MDAnalysis' has no attribute 'analysis'",
     "output_type": "error",
     "traceback": [
      "\u001b[0;31m---------------------------------------------------------------------------\u001b[0m",
      "\u001b[0;31mAttributeError\u001b[0m                            Traceback (most recent call last)",
      "\u001b[0;32m<ipython-input-10-69fa25e4b531>\u001b[0m in \u001b[0;36m<module>\u001b[0;34m\u001b[0m\n\u001b[1;32m      1\u001b[0m \u001b[0;31m# Calculate the MSD for each atom type\u001b[0m\u001b[0;34m\u001b[0m\u001b[0;34m\u001b[0m\u001b[0;34m\u001b[0m\u001b[0m\n\u001b[0;32m----> 2\u001b[0;31m \u001b[0mmsd_water\u001b[0m \u001b[0;34m=\u001b[0m \u001b[0mmda\u001b[0m\u001b[0;34m.\u001b[0m\u001b[0manalysis\u001b[0m\u001b[0;34m.\u001b[0m\u001b[0mmsd\u001b[0m\u001b[0;34m.\u001b[0m\u001b[0mMSD\u001b[0m\u001b[0;34m(\u001b[0m\u001b[0mwater_oxygens\u001b[0m\u001b[0;34m)\u001b[0m\u001b[0;34m.\u001b[0m\u001b[0mrun\u001b[0m\u001b[0;34m(\u001b[0m\u001b[0;34m)\u001b[0m\u001b[0;34m\u001b[0m\u001b[0;34m\u001b[0m\u001b[0m\n\u001b[0m\u001b[1;32m      3\u001b[0m \u001b[0mmsd_sodium\u001b[0m \u001b[0;34m=\u001b[0m \u001b[0mmda\u001b[0m\u001b[0;34m.\u001b[0m\u001b[0manalysis\u001b[0m\u001b[0;34m.\u001b[0m\u001b[0mmsd\u001b[0m\u001b[0;34m.\u001b[0m\u001b[0mMSD\u001b[0m\u001b[0;34m(\u001b[0m\u001b[0msodium_ions\u001b[0m\u001b[0;34m)\u001b[0m\u001b[0;34m.\u001b[0m\u001b[0mrun\u001b[0m\u001b[0;34m(\u001b[0m\u001b[0;34m)\u001b[0m\u001b[0;34m\u001b[0m\u001b[0;34m\u001b[0m\u001b[0m\n\u001b[1;32m      4\u001b[0m \u001b[0mmsd_all_oxygen\u001b[0m \u001b[0;34m=\u001b[0m \u001b[0mmda\u001b[0m\u001b[0;34m.\u001b[0m\u001b[0manalysis\u001b[0m\u001b[0;34m.\u001b[0m\u001b[0mmsd\u001b[0m\u001b[0;34m.\u001b[0m\u001b[0mMSD\u001b[0m\u001b[0;34m(\u001b[0m\u001b[0mall_oxygens\u001b[0m\u001b[0;34m)\u001b[0m\u001b[0;34m.\u001b[0m\u001b[0mrun\u001b[0m\u001b[0;34m(\u001b[0m\u001b[0;34m)\u001b[0m\u001b[0;34m\u001b[0m\u001b[0;34m\u001b[0m\u001b[0m\n",
      "\u001b[0;31mAttributeError\u001b[0m: module 'MDAnalysis' has no attribute 'analysis'"
     ]
    }
   ],
   "source": [
    "# Calculate the MSD for each atom type\n",
    "msd_water = mda.analysis.msd.MSD(water_oxygens).run()\n",
    "msd_sodium = mda.analysis.msd.MSD(sodium_ions).run()\n",
    "msd_all_oxygen = mda.analysis.msd.MSD(all_oxygens).run()"
   ]
  },
  {
   "cell_type": "code",
   "execution_count": null,
   "metadata": {},
   "outputs": [],
   "source": [
    "# Print or visualize the MSD results\n",
    "print(\"Mean Squared Displacement for Water Oxygens:\")\n",
    "print(msd_water.msd)\n",
    "\n",
    "print(\"\\nMean Squared Displacement for Sodium Ions:\")\n",
    "print(msd_sodium.msd)\n",
    "\n",
    "print(\"\\nMean Squared Displacement for All Oxygen Atoms:\")\n",
    "print(msd_all_oxygen.msd)"
   ]
  },
  {
   "cell_type": "code",
   "execution_count": null,
   "metadata": {},
   "outputs": [],
   "source": [
    "# Define atom selections based on CHARMM naming conventions (adjust as needed)\n",
    "water_oxygens = u.select_atoms(\"name OW\")\n",
    "sodium_ions = u.select_atoms(\"resname SOD\")\n",
    "all_oxygens = u.select_atoms(\"name O\")"
   ]
  },
  {
   "cell_type": "code",
   "execution_count": null,
   "metadata": {},
   "outputs": [],
   "source": [
    "# Calculate the MSD for each atom type\n",
    "msd_water = mda.analysis.msd.MSD(water_oxygens).run()\n",
    "msd_sodium = mda.analysis.msd.MSD(sodium_ions).run()\n",
    "msd_all_oxygen = mda.analysis.msd.MSD(all_oxygens).run()"
   ]
  },
  {
   "cell_type": "code",
   "execution_count": null,
   "metadata": {},
   "outputs": [],
   "source": [
    "# Print or visualize the MSD results\n",
    "print(\"Mean Squared Displacement for Water Oxygens:\")\n",
    "print(msd_water.msd)\n",
    "\n",
    "print(\"\\nMean Squared Displacement for Sodium Ions:\")\n",
    "print(msd_sodium.msd)\n",
    "\n",
    "print(\"\\nMean Squared Displacement for All Oxygen Atoms:\")\n",
    "print(msd_all_oxygen.msd)"
   ]
  },
  {
   "cell_type": "code",
   "execution_count": null,
   "metadata": {},
   "outputs": [],
   "source": [
    "# Plot and save the results\n",
    "plt.figure(figsize=(10, 6))\n",
    "plt.plot(msd_water.time, msd_water.msd, label='Water Oxygens', linestyle='-')\n",
    "plt.plot(msd_sodium.time, msd_sodium.msd, label='Sodium Ions', linestyle='--')\n",
    "plt.plot(msd_all_oxygen.time, msd_all_oxygen.msd, label='All Oxygen Atoms', linestyle=':')\n",
    "plt.xlabel('Time (ps)')\n",
    "plt.ylabel('Mean Squared Displacement (Angstrom^2)')\n",
    "plt.legend()\n",
    "plt.title('Mean Squared Displacement vs. Time')\n",
    "plt.savefig(\"/home/hz2750/comp-lab-class/comp-lab-class-2023/Week4/Figures/msd_vs_time.png\")\n",
    "plt.show()\n"
   ]
  }
 ],
 "metadata": {
  "kernelspec": {
   "display_name": "Python 3",
   "language": "python",
   "name": "python3"
  },
  "language_info": {
   "codemirror_mode": {
    "name": "ipython",
    "version": 3
   },
   "file_extension": ".py",
   "mimetype": "text/x-python",
   "name": "python",
   "nbconvert_exporter": "python",
   "pygments_lexer": "ipython3",
   "version": "3.8.6"
  }
 },
 "nbformat": 4,
 "nbformat_minor": 4
}
