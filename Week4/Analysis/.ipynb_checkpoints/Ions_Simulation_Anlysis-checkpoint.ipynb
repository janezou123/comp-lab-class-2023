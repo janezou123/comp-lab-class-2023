{
 "cells": [
  {
   "cell_type": "code",
   "execution_count": 50,
   "metadata": {},
   "outputs": [],
   "source": [
    "from matplotlib import pyplot as plt\n",
    "import MDAnalysis as mda\n",
    "from MDAnalysis.analysis.msd import EinsteinMSD\n",
    "import numpy as np\n"
   ]
  },
  {
   "cell_type": "code",
   "execution_count": 55,
   "metadata": {},
   "outputs": [],
   "source": [
    "# Load the XTC trajectory and PDB topology files\n",
    "traj = mda.Universe(\"/home/hz2750/comp-lab-class/comp-lab-class-2023/Week4/Setup/Ions_Simulation/gromacs/step5_1.gro\",\n",
    "                    \"/home/hz2750/comp-lab-class/comp-lab-class-2023/Week4/Setup/Ions_Simulation/gromacs/unwrapped_traj2.xtc\")\n",
    "\n"
   ]
  },
  {
   "cell_type": "code",
   "execution_count": 88,
   "metadata": {
    "scrolled": true
   },
   "outputs": [],
   "source": [
    "water_oxygen_atoms = traj.select_atoms('name OH2')\n",
    "sodium_atoms = traj.select_atoms('name SOD')\n",
    "chloride_atoms = traj.select_atoms('name CLA')\n"
   ]
  },
  {
   "cell_type": "code",
   "execution_count": 89,
   "metadata": {},
   "outputs": [],
   "source": [
    "# Define time interval (in picoseconds)\n",
    "# Adjust the time values to match the number of data points in your MSD arrays\n",
    "\n",
    "time_interval = 1.0  # Adjust this according to your trajectory\n"
   ]
  },
  {
   "cell_type": "code",
   "execution_count": 90,
   "metadata": {},
   "outputs": [],
   "source": [
    "# Function to calculate the MSD\n",
    "def calculate_msd(atoms, time_values):\n",
    "    msd = np.zeros(len(time_values))\n",
    "    \n",
    "    for i, ts in enumerate(u.trajectory):\n",
    "        displacement = atoms.positions - atoms.positions[0]\n",
    "        msd += (displacement ** 2).sum(axis=1)\n",
    "    \n",
    "    msd /= len(u.trajectory)\n",
    "    return time_values, msd\n"
   ]
  },
  {
   "cell_type": "code",
   "execution_count": 91,
   "metadata": {},
   "outputs": [],
   "source": [
    "# Plot the MSD vs. time\n",
    "def plot_mda_vs_time(mda, time, legend):\n",
    "    plt.plot(time, mda, label=legend)\n",
    "    plt.xlabel('Time (ps)')\n",
    "    plt.ylabel(r'MSD ($nm^{2}$)')\n",
    "    plt.legend()\n"
   ]
  },
  {
   "cell_type": "code",
   "execution_count": 92,
   "metadata": {},
   "outputs": [],
   "source": [
    "# Generate the time values with consistent length\n",
    "time_values = list(range(0, 10010, 10))"
   ]
  },
  {
   "cell_type": "code",
   "execution_count": 95,
   "metadata": {},
   "outputs": [
    {
     "ename": "ValueError",
     "evalue": "operands could not be broadcast together with shapes (1001,) (3878,) (1001,) ",
     "output_type": "error",
     "traceback": [
      "\u001b[0;31m---------------------------------------------------------------------------\u001b[0m",
      "\u001b[0;31mValueError\u001b[0m                                Traceback (most recent call last)",
      "\u001b[0;32m<ipython-input-95-f0fa75f2a4bd>\u001b[0m in \u001b[0;36m<module>\u001b[0;34m\u001b[0m\n\u001b[1;32m      1\u001b[0m \u001b[0;31m# Calculate the MSD for each atom type with the same time values\u001b[0m\u001b[0;34m\u001b[0m\u001b[0;34m\u001b[0m\u001b[0;34m\u001b[0m\u001b[0m\n\u001b[0;32m----> 2\u001b[0;31m \u001b[0mmsd_water\u001b[0m \u001b[0;34m=\u001b[0m \u001b[0mcalculate_msd\u001b[0m\u001b[0;34m(\u001b[0m\u001b[0mwater_oxygen_atoms\u001b[0m\u001b[0;34m,\u001b[0m \u001b[0mtime_values\u001b[0m\u001b[0;34m)\u001b[0m\u001b[0;34m\u001b[0m\u001b[0;34m\u001b[0m\u001b[0m\n\u001b[0m\u001b[1;32m      3\u001b[0m \u001b[0mmsd_sodium\u001b[0m \u001b[0;34m=\u001b[0m \u001b[0mcalculate_msd\u001b[0m\u001b[0;34m(\u001b[0m\u001b[0msodium_atoms\u001b[0m\u001b[0;34m,\u001b[0m \u001b[0mtime_values\u001b[0m\u001b[0;34m)\u001b[0m\u001b[0;34m\u001b[0m\u001b[0;34m\u001b[0m\u001b[0m\n\u001b[1;32m      4\u001b[0m \u001b[0mmsd_chloride\u001b[0m \u001b[0;34m=\u001b[0m \u001b[0mcalculate_msd\u001b[0m\u001b[0;34m(\u001b[0m\u001b[0mchloride_atoms\u001b[0m\u001b[0;34m,\u001b[0m \u001b[0mtime_values\u001b[0m\u001b[0;34m)\u001b[0m\u001b[0;34m\u001b[0m\u001b[0;34m\u001b[0m\u001b[0m\n",
      "\u001b[0;32m<ipython-input-90-87f77556be6b>\u001b[0m in \u001b[0;36mcalculate_msd\u001b[0;34m(atoms, time_values)\u001b[0m\n\u001b[1;32m      5\u001b[0m     \u001b[0;32mfor\u001b[0m \u001b[0mi\u001b[0m\u001b[0;34m,\u001b[0m \u001b[0mts\u001b[0m \u001b[0;32min\u001b[0m \u001b[0menumerate\u001b[0m\u001b[0;34m(\u001b[0m\u001b[0mu\u001b[0m\u001b[0;34m.\u001b[0m\u001b[0mtrajectory\u001b[0m\u001b[0;34m)\u001b[0m\u001b[0;34m:\u001b[0m\u001b[0;34m\u001b[0m\u001b[0;34m\u001b[0m\u001b[0m\n\u001b[1;32m      6\u001b[0m         \u001b[0mdisplacement\u001b[0m \u001b[0;34m=\u001b[0m \u001b[0matoms\u001b[0m\u001b[0;34m.\u001b[0m\u001b[0mpositions\u001b[0m \u001b[0;34m-\u001b[0m \u001b[0matoms\u001b[0m\u001b[0;34m.\u001b[0m\u001b[0mpositions\u001b[0m\u001b[0;34m[\u001b[0m\u001b[0;36m0\u001b[0m\u001b[0;34m]\u001b[0m\u001b[0;34m\u001b[0m\u001b[0;34m\u001b[0m\u001b[0m\n\u001b[0;32m----> 7\u001b[0;31m         \u001b[0mmsd\u001b[0m \u001b[0;34m+=\u001b[0m \u001b[0;34m(\u001b[0m\u001b[0mdisplacement\u001b[0m \u001b[0;34m**\u001b[0m \u001b[0;36m2\u001b[0m\u001b[0;34m)\u001b[0m\u001b[0;34m.\u001b[0m\u001b[0msum\u001b[0m\u001b[0;34m(\u001b[0m\u001b[0maxis\u001b[0m\u001b[0;34m=\u001b[0m\u001b[0;36m1\u001b[0m\u001b[0;34m)\u001b[0m\u001b[0;34m\u001b[0m\u001b[0;34m\u001b[0m\u001b[0m\n\u001b[0m\u001b[1;32m      8\u001b[0m \u001b[0;34m\u001b[0m\u001b[0m\n\u001b[1;32m      9\u001b[0m     \u001b[0mmsd\u001b[0m \u001b[0;34m/=\u001b[0m \u001b[0mlen\u001b[0m\u001b[0;34m(\u001b[0m\u001b[0mu\u001b[0m\u001b[0;34m.\u001b[0m\u001b[0mtrajectory\u001b[0m\u001b[0;34m)\u001b[0m\u001b[0;34m\u001b[0m\u001b[0;34m\u001b[0m\u001b[0m\n",
      "\u001b[0;31mValueError\u001b[0m: operands could not be broadcast together with shapes (1001,) (3878,) (1001,) "
     ]
    }
   ],
   "source": [
    "# Calculate the MSD for each atom type with the same time values\n",
    "msd_water = calculate_msd(water_oxygen_atoms, time_values)\n",
    "msd_sodium = calculate_msd(sodium_atoms, time_values)\n",
    "msd_chloride = calculate_msd(chloride_atoms, time_values)"
   ]
  },
  {
   "cell_type": "code",
   "execution_count": 96,
   "metadata": {},
   "outputs": [
    {
     "ename": "NameError",
     "evalue": "name 'msd_water' is not defined",
     "output_type": "error",
     "traceback": [
      "\u001b[0;31m---------------------------------------------------------------------------\u001b[0m",
      "\u001b[0;31mNameError\u001b[0m                                 Traceback (most recent call last)",
      "\u001b[0;32m<ipython-input-96-234bde813ddd>\u001b[0m in \u001b[0;36m<module>\u001b[0;34m\u001b[0m\n\u001b[1;32m      1\u001b[0m \u001b[0;31m# Plot the data\u001b[0m\u001b[0;34m\u001b[0m\u001b[0;34m\u001b[0m\u001b[0;34m\u001b[0m\u001b[0m\n\u001b[0;32m----> 2\u001b[0;31m \u001b[0mplot_mda_vs_time\u001b[0m\u001b[0;34m(\u001b[0m\u001b[0mmsd_water\u001b[0m\u001b[0;34m,\u001b[0m \u001b[0mtime_values\u001b[0m\u001b[0;34m,\u001b[0m \u001b[0;34m'Water'\u001b[0m\u001b[0;34m)\u001b[0m\u001b[0;34m\u001b[0m\u001b[0;34m\u001b[0m\u001b[0m\n\u001b[0m\u001b[1;32m      3\u001b[0m \u001b[0mplot_mda_vs_time\u001b[0m\u001b[0;34m(\u001b[0m\u001b[0mmsd_sodium\u001b[0m\u001b[0;34m,\u001b[0m \u001b[0mtime_values\u001b[0m\u001b[0;34m,\u001b[0m \u001b[0;34m'Sodium'\u001b[0m\u001b[0;34m)\u001b[0m\u001b[0;34m\u001b[0m\u001b[0;34m\u001b[0m\u001b[0m\n\u001b[1;32m      4\u001b[0m \u001b[0mplot_mda_vs_time\u001b[0m\u001b[0;34m(\u001b[0m\u001b[0mmsd_chloride\u001b[0m\u001b[0;34m,\u001b[0m \u001b[0mtime_values\u001b[0m\u001b[0;34m,\u001b[0m \u001b[0;34m'Chloride'\u001b[0m\u001b[0;34m)\u001b[0m\u001b[0;34m\u001b[0m\u001b[0;34m\u001b[0m\u001b[0m\n",
      "\u001b[0;31mNameError\u001b[0m: name 'msd_water' is not defined"
     ]
    }
   ],
   "source": [
    "\n",
    "# Plot the data\n",
    "plot_mda_vs_time(msd_water, time_values, 'Water')\n",
    "plot_mda_vs_time(msd_sodium, time_values, 'Sodium')\n",
    "plot_mda_vs_time(msd_chloride, time_values, 'Chloride')"
   ]
  },
  {
   "cell_type": "code",
   "execution_count": 97,
   "metadata": {},
   "outputs": [
    {
     "data": {
      "text/plain": [
       "<Figure size 432x288 with 0 Axes>"
      ]
     },
     "metadata": {},
     "output_type": "display_data"
    }
   ],
   "source": [
    "# Save the plot to the Figures folder\n",
    "plt.savefig('/home/hz2750/comp-lab-class/comp-lab-class-2023/Week4/Figures/msd_plot.png', dpi=300)\n",
    "\n",
    "# Show the plot in the Jupyter Notebook\n",
    "plt.show()"
   ]
  },
  {
   "cell_type": "code",
   "execution_count": null,
   "metadata": {},
   "outputs": [],
   "source": []
  }
 ],
 "metadata": {
  "kernelspec": {
   "display_name": "Python 3",
   "language": "python",
   "name": "python3"
  },
  "language_info": {
   "codemirror_mode": {
    "name": "ipython",
    "version": 3
   },
   "file_extension": ".py",
   "mimetype": "text/x-python",
   "name": "python",
   "nbconvert_exporter": "python",
   "pygments_lexer": "ipython3",
   "version": "3.8.6"
  }
 },
 "nbformat": 4,
 "nbformat_minor": 4
}
