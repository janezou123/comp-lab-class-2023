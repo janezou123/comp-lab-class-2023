{
 "cells": [
  {
   "cell_type": "code",
   "execution_count": 3,
   "metadata": {},
   "outputs": [
    {
     "name": "stdout",
     "output_type": "stream",
     "text": [
      "Defaulting to user installation because normal site-packages is not writeable\n",
      "Requirement already satisfied: MDAnalysis in /home/hz2750/.local/lib/python3.8/site-packages (2.4.3)\n",
      "Requirement already satisfied: networkx>=2.0 in /home/hz2750/.local/lib/python3.8/site-packages (from MDAnalysis) (3.1)\n",
      "Requirement already satisfied: fasteners in /home/hz2750/.local/lib/python3.8/site-packages (from MDAnalysis) (0.19)\n",
      "Requirement already satisfied: threadpoolctl in /home/hz2750/.local/lib/python3.8/site-packages (from MDAnalysis) (3.2.0)\n",
      "Requirement already satisfied: GridDataFormats>=0.4.0 in /home/hz2750/.local/lib/python3.8/site-packages (from MDAnalysis) (1.0.1)\n",
      "Requirement already satisfied: joblib>=0.12 in /home/hz2750/.local/lib/python3.8/site-packages (from MDAnalysis) (1.3.2)\n",
      "Requirement already satisfied: tqdm>=4.43.0 in /home/hz2750/.local/lib/python3.8/site-packages (from MDAnalysis) (4.66.1)\n",
      "Requirement already satisfied: matplotlib>=1.5.1 in /share/apps/python/3.8.6/intel/lib/python3.8/site-packages (from MDAnalysis) (3.3.2)\n",
      "Requirement already satisfied: biopython>=1.80 in /home/hz2750/.local/lib/python3.8/site-packages (from MDAnalysis) (1.81)\n",
      "Requirement already satisfied: packaging in /share/apps/python/3.8.6/intel/lib/python3.8/site-packages (from MDAnalysis) (20.4)\n",
      "Requirement already satisfied: mmtf-python>=1.0.0 in /home/hz2750/.local/lib/python3.8/site-packages (from MDAnalysis) (1.1.3)\n",
      "Requirement already satisfied: gsd>=1.9.3 in /home/hz2750/.local/lib/python3.8/site-packages (from MDAnalysis) (3.2.0)\n",
      "Requirement already satisfied: scipy>=1.5.0 in /share/apps/python/3.8.6/intel/lib/python3.8/site-packages/scipy-1.5.2-py3.8-linux-x86_64.egg (from MDAnalysis) (1.5.2)\n",
      "Requirement already satisfied: numpy>=1.20.0 in /home/hz2750/.local/lib/python3.8/site-packages (from MDAnalysis) (1.24.4)\n",
      "Requirement already satisfied: mrcfile in /home/hz2750/.local/lib/python3.8/site-packages (from GridDataFormats>=0.4.0->MDAnalysis) (1.4.3)\n",
      "Requirement already satisfied: certifi>=2020.06.20 in /share/apps/python/3.8.6/intel/lib/python3.8/site-packages (from matplotlib>=1.5.1->MDAnalysis) (2020.6.20)\n",
      "Requirement already satisfied: pillow>=6.2.0 in /share/apps/python/3.8.6/intel/lib/python3.8/site-packages (from matplotlib>=1.5.1->MDAnalysis) (8.0.1)\n",
      "Requirement already satisfied: kiwisolver>=1.0.1 in /share/apps/python/3.8.6/intel/lib/python3.8/site-packages (from matplotlib>=1.5.1->MDAnalysis) (1.2.0)\n",
      "Requirement already satisfied: pyparsing!=2.0.4,!=2.1.2,!=2.1.6,>=2.0.3 in /share/apps/python/3.8.6/intel/lib/python3.8/site-packages (from matplotlib>=1.5.1->MDAnalysis) (2.4.7)\n",
      "Requirement already satisfied: cycler>=0.10 in /share/apps/python/3.8.6/intel/lib/python3.8/site-packages (from matplotlib>=1.5.1->MDAnalysis) (0.10.0)\n",
      "Requirement already satisfied: python-dateutil>=2.1 in /share/apps/python/3.8.6/intel/lib/python3.8/site-packages (from matplotlib>=1.5.1->MDAnalysis) (2.8.1)\n",
      "Requirement already satisfied: six in /share/apps/python/3.8.6/intel/lib/python3.8/site-packages (from packaging->MDAnalysis) (1.15.0)\n",
      "Requirement already satisfied: msgpack>=1.0.0 in /home/hz2750/.local/lib/python3.8/site-packages (from mmtf-python>=1.0.0->MDAnalysis) (1.0.7)\n",
      "\u001b[33mWARNING: You are using pip version 20.2.3; however, version 23.3.1 is available.\n",
      "You should consider upgrading via the '/share/apps/python/3.8.6/intel/bin/python -m pip install --upgrade pip' command.\u001b[0m\n",
      "Note: you may need to restart the kernel to use updated packages.\n"
     ]
    }
   ],
   "source": [
    "pip install MDAnalysis\n"
   ]
  },
  {
   "cell_type": "code",
   "execution_count": 6,
   "metadata": {},
   "outputs": [
    {
     "ename": "ValueError",
     "evalue": "x and y must have same first dimension, but have shapes (1,) and (0,)",
     "output_type": "error",
     "traceback": [
      "\u001b[0;31m---------------------------------------------------------------------------\u001b[0m",
      "\u001b[0;31mValueError\u001b[0m                                Traceback (most recent call last)",
      "\u001b[0;32m<ipython-input-6-b73740464414>\u001b[0m in \u001b[0;36m<module>\u001b[0;34m\u001b[0m\n\u001b[1;32m     36\u001b[0m \u001b[0;31m# Plot the MSD vs. time\u001b[0m\u001b[0;34m\u001b[0m\u001b[0;34m\u001b[0m\u001b[0;34m\u001b[0m\u001b[0m\n\u001b[1;32m     37\u001b[0m \u001b[0mplt\u001b[0m\u001b[0;34m.\u001b[0m\u001b[0mfigure\u001b[0m\u001b[0;34m(\u001b[0m\u001b[0mfigsize\u001b[0m\u001b[0;34m=\u001b[0m\u001b[0;34m(\u001b[0m\u001b[0;36m10\u001b[0m\u001b[0;34m,\u001b[0m \u001b[0;36m6\u001b[0m\u001b[0;34m)\u001b[0m\u001b[0;34m)\u001b[0m\u001b[0;34m\u001b[0m\u001b[0;34m\u001b[0m\u001b[0m\n\u001b[0;32m---> 38\u001b[0;31m \u001b[0mplt\u001b[0m\u001b[0;34m.\u001b[0m\u001b[0mplot\u001b[0m\u001b[0;34m(\u001b[0m\u001b[0mu\u001b[0m\u001b[0;34m.\u001b[0m\u001b[0mtrajectory\u001b[0m\u001b[0;34m.\u001b[0m\u001b[0mtime\u001b[0m\u001b[0;34m,\u001b[0m \u001b[0mmsd_water_oxygen\u001b[0m\u001b[0;34m,\u001b[0m \u001b[0mlabel\u001b[0m\u001b[0;34m=\u001b[0m\u001b[0;34m\"Water Oxygen\"\u001b[0m\u001b[0;34m)\u001b[0m\u001b[0;34m\u001b[0m\u001b[0;34m\u001b[0m\u001b[0m\n\u001b[0m\u001b[1;32m     39\u001b[0m \u001b[0mplt\u001b[0m\u001b[0;34m.\u001b[0m\u001b[0mplot\u001b[0m\u001b[0;34m(\u001b[0m\u001b[0mu\u001b[0m\u001b[0;34m.\u001b[0m\u001b[0mtrajectory\u001b[0m\u001b[0;34m.\u001b[0m\u001b[0mtime\u001b[0m\u001b[0;34m,\u001b[0m \u001b[0mmsd_sodium\u001b[0m\u001b[0;34m,\u001b[0m \u001b[0mlabel\u001b[0m\u001b[0;34m=\u001b[0m\u001b[0;34m\"Sodium\"\u001b[0m\u001b[0;34m)\u001b[0m\u001b[0;34m\u001b[0m\u001b[0;34m\u001b[0m\u001b[0m\n\u001b[1;32m     40\u001b[0m \u001b[0mplt\u001b[0m\u001b[0;34m.\u001b[0m\u001b[0mplot\u001b[0m\u001b[0;34m(\u001b[0m\u001b[0mu\u001b[0m\u001b[0;34m.\u001b[0m\u001b[0mtrajectory\u001b[0m\u001b[0;34m.\u001b[0m\u001b[0mtime\u001b[0m\u001b[0;34m,\u001b[0m \u001b[0mmsd_oxygen\u001b[0m\u001b[0;34m,\u001b[0m \u001b[0mlabel\u001b[0m\u001b[0;34m=\u001b[0m\u001b[0;34m\"Oxygen\"\u001b[0m\u001b[0;34m)\u001b[0m\u001b[0;34m\u001b[0m\u001b[0;34m\u001b[0m\u001b[0m\n",
      "\u001b[0;32m/share/apps/python/3.8.6/intel/lib/python3.8/site-packages/matplotlib/pyplot.py\u001b[0m in \u001b[0;36mplot\u001b[0;34m(scalex, scaley, data, *args, **kwargs)\u001b[0m\n\u001b[1;32m   2838\u001b[0m \u001b[0;34m@\u001b[0m\u001b[0m_copy_docstring_and_deprecators\u001b[0m\u001b[0;34m(\u001b[0m\u001b[0mAxes\u001b[0m\u001b[0;34m.\u001b[0m\u001b[0mplot\u001b[0m\u001b[0;34m)\u001b[0m\u001b[0;34m\u001b[0m\u001b[0;34m\u001b[0m\u001b[0m\n\u001b[1;32m   2839\u001b[0m \u001b[0;32mdef\u001b[0m \u001b[0mplot\u001b[0m\u001b[0;34m(\u001b[0m\u001b[0;34m*\u001b[0m\u001b[0margs\u001b[0m\u001b[0;34m,\u001b[0m \u001b[0mscalex\u001b[0m\u001b[0;34m=\u001b[0m\u001b[0;32mTrue\u001b[0m\u001b[0;34m,\u001b[0m \u001b[0mscaley\u001b[0m\u001b[0;34m=\u001b[0m\u001b[0;32mTrue\u001b[0m\u001b[0;34m,\u001b[0m \u001b[0mdata\u001b[0m\u001b[0;34m=\u001b[0m\u001b[0;32mNone\u001b[0m\u001b[0;34m,\u001b[0m \u001b[0;34m**\u001b[0m\u001b[0mkwargs\u001b[0m\u001b[0;34m)\u001b[0m\u001b[0;34m:\u001b[0m\u001b[0;34m\u001b[0m\u001b[0;34m\u001b[0m\u001b[0m\n\u001b[0;32m-> 2840\u001b[0;31m     return gca().plot(\n\u001b[0m\u001b[1;32m   2841\u001b[0m         \u001b[0;34m*\u001b[0m\u001b[0margs\u001b[0m\u001b[0;34m,\u001b[0m \u001b[0mscalex\u001b[0m\u001b[0;34m=\u001b[0m\u001b[0mscalex\u001b[0m\u001b[0;34m,\u001b[0m \u001b[0mscaley\u001b[0m\u001b[0;34m=\u001b[0m\u001b[0mscaley\u001b[0m\u001b[0;34m,\u001b[0m\u001b[0;34m\u001b[0m\u001b[0;34m\u001b[0m\u001b[0m\n\u001b[1;32m   2842\u001b[0m         **({\"data\": data} if data is not None else {}), **kwargs)\n",
      "\u001b[0;32m/share/apps/python/3.8.6/intel/lib/python3.8/site-packages/matplotlib/axes/_axes.py\u001b[0m in \u001b[0;36mplot\u001b[0;34m(self, scalex, scaley, data, *args, **kwargs)\u001b[0m\n\u001b[1;32m   1741\u001b[0m         \"\"\"\n\u001b[1;32m   1742\u001b[0m         \u001b[0mkwargs\u001b[0m \u001b[0;34m=\u001b[0m \u001b[0mcbook\u001b[0m\u001b[0;34m.\u001b[0m\u001b[0mnormalize_kwargs\u001b[0m\u001b[0;34m(\u001b[0m\u001b[0mkwargs\u001b[0m\u001b[0;34m,\u001b[0m \u001b[0mmlines\u001b[0m\u001b[0;34m.\u001b[0m\u001b[0mLine2D\u001b[0m\u001b[0;34m)\u001b[0m\u001b[0;34m\u001b[0m\u001b[0;34m\u001b[0m\u001b[0m\n\u001b[0;32m-> 1743\u001b[0;31m         \u001b[0mlines\u001b[0m \u001b[0;34m=\u001b[0m \u001b[0;34m[\u001b[0m\u001b[0;34m*\u001b[0m\u001b[0mself\u001b[0m\u001b[0;34m.\u001b[0m\u001b[0m_get_lines\u001b[0m\u001b[0;34m(\u001b[0m\u001b[0;34m*\u001b[0m\u001b[0margs\u001b[0m\u001b[0;34m,\u001b[0m \u001b[0mdata\u001b[0m\u001b[0;34m=\u001b[0m\u001b[0mdata\u001b[0m\u001b[0;34m,\u001b[0m \u001b[0;34m**\u001b[0m\u001b[0mkwargs\u001b[0m\u001b[0;34m)\u001b[0m\u001b[0;34m]\u001b[0m\u001b[0;34m\u001b[0m\u001b[0;34m\u001b[0m\u001b[0m\n\u001b[0m\u001b[1;32m   1744\u001b[0m         \u001b[0;32mfor\u001b[0m \u001b[0mline\u001b[0m \u001b[0;32min\u001b[0m \u001b[0mlines\u001b[0m\u001b[0;34m:\u001b[0m\u001b[0;34m\u001b[0m\u001b[0;34m\u001b[0m\u001b[0m\n\u001b[1;32m   1745\u001b[0m             \u001b[0mself\u001b[0m\u001b[0;34m.\u001b[0m\u001b[0madd_line\u001b[0m\u001b[0;34m(\u001b[0m\u001b[0mline\u001b[0m\u001b[0;34m)\u001b[0m\u001b[0;34m\u001b[0m\u001b[0;34m\u001b[0m\u001b[0m\n",
      "\u001b[0;32m/share/apps/python/3.8.6/intel/lib/python3.8/site-packages/matplotlib/axes/_base.py\u001b[0m in \u001b[0;36m__call__\u001b[0;34m(self, data, *args, **kwargs)\u001b[0m\n\u001b[1;32m    271\u001b[0m                 \u001b[0mthis\u001b[0m \u001b[0;34m+=\u001b[0m \u001b[0margs\u001b[0m\u001b[0;34m[\u001b[0m\u001b[0;36m0\u001b[0m\u001b[0;34m]\u001b[0m\u001b[0;34m,\u001b[0m\u001b[0;34m\u001b[0m\u001b[0;34m\u001b[0m\u001b[0m\n\u001b[1;32m    272\u001b[0m                 \u001b[0margs\u001b[0m \u001b[0;34m=\u001b[0m \u001b[0margs\u001b[0m\u001b[0;34m[\u001b[0m\u001b[0;36m1\u001b[0m\u001b[0;34m:\u001b[0m\u001b[0;34m]\u001b[0m\u001b[0;34m\u001b[0m\u001b[0;34m\u001b[0m\u001b[0m\n\u001b[0;32m--> 273\u001b[0;31m             \u001b[0;32myield\u001b[0m \u001b[0;32mfrom\u001b[0m \u001b[0mself\u001b[0m\u001b[0;34m.\u001b[0m\u001b[0m_plot_args\u001b[0m\u001b[0;34m(\u001b[0m\u001b[0mthis\u001b[0m\u001b[0;34m,\u001b[0m \u001b[0mkwargs\u001b[0m\u001b[0;34m)\u001b[0m\u001b[0;34m\u001b[0m\u001b[0;34m\u001b[0m\u001b[0m\n\u001b[0m\u001b[1;32m    274\u001b[0m \u001b[0;34m\u001b[0m\u001b[0m\n\u001b[1;32m    275\u001b[0m     \u001b[0;32mdef\u001b[0m \u001b[0mget_next_color\u001b[0m\u001b[0;34m(\u001b[0m\u001b[0mself\u001b[0m\u001b[0;34m)\u001b[0m\u001b[0;34m:\u001b[0m\u001b[0;34m\u001b[0m\u001b[0;34m\u001b[0m\u001b[0m\n",
      "\u001b[0;32m/share/apps/python/3.8.6/intel/lib/python3.8/site-packages/matplotlib/axes/_base.py\u001b[0m in \u001b[0;36m_plot_args\u001b[0;34m(self, tup, kwargs)\u001b[0m\n\u001b[1;32m    397\u001b[0m \u001b[0;34m\u001b[0m\u001b[0m\n\u001b[1;32m    398\u001b[0m         \u001b[0;32mif\u001b[0m \u001b[0mx\u001b[0m\u001b[0;34m.\u001b[0m\u001b[0mshape\u001b[0m\u001b[0;34m[\u001b[0m\u001b[0;36m0\u001b[0m\u001b[0;34m]\u001b[0m \u001b[0;34m!=\u001b[0m \u001b[0my\u001b[0m\u001b[0;34m.\u001b[0m\u001b[0mshape\u001b[0m\u001b[0;34m[\u001b[0m\u001b[0;36m0\u001b[0m\u001b[0;34m]\u001b[0m\u001b[0;34m:\u001b[0m\u001b[0;34m\u001b[0m\u001b[0;34m\u001b[0m\u001b[0m\n\u001b[0;32m--> 399\u001b[0;31m             raise ValueError(f\"x and y must have same first dimension, but \"\n\u001b[0m\u001b[1;32m    400\u001b[0m                              f\"have shapes {x.shape} and {y.shape}\")\n\u001b[1;32m    401\u001b[0m         \u001b[0;32mif\u001b[0m \u001b[0mx\u001b[0m\u001b[0;34m.\u001b[0m\u001b[0mndim\u001b[0m \u001b[0;34m>\u001b[0m \u001b[0;36m2\u001b[0m \u001b[0;32mor\u001b[0m \u001b[0my\u001b[0m\u001b[0;34m.\u001b[0m\u001b[0mndim\u001b[0m \u001b[0;34m>\u001b[0m \u001b[0;36m2\u001b[0m\u001b[0;34m:\u001b[0m\u001b[0;34m\u001b[0m\u001b[0;34m\u001b[0m\u001b[0m\n",
      "\u001b[0;31mValueError\u001b[0m: x and y must have same first dimension, but have shapes (1,) and (0,)"
     ]
    },
    {
     "data": {
      "image/png": "[encoded data removed]",
      "text/plain": [
       "<Figure size 720x432 with 1 Axes>"
      ]
     },
     "metadata": {
      "needs_background": "light"
     },
     "output_type": "display_data"
    }
   ],
   "source": [
    "import MDAnalysis as mda\n",
    "import numpy as np\n",
    "import matplotlib.pyplot as plt\n",
    "\n",
    "# Load the trajectory and topology data\n",
    "u = mda.Universe(\"/home/hz2750/comp-lab-class/comp-lab-class-2023/Week4/Setup/Ions_Simulation/gromacs/step5_1.gro\", \n",
    "                 \"/home/hz2750/comp-lab-class/comp-lab-class-2023/Week4/Setup/Ions_Simulation/gromacs/unwrapped_traj2.xtc\")\n",
    "\n",
    "# Define the atom groups for Water Oxygens, Sodium, and Oxygen\n",
    "water_oxygen_atoms = u.select_atoms('name O and resname SOL')\n",
    "sodium_atoms = u.select_atoms('name NA')\n",
    "oxygen_atoms = u.select_atoms('name O')\n",
    "\n",
    "# Initialize arrays to store the MSD values\n",
    "msd_water_oxygen = []\n",
    "msd_sodium = []\n",
    "msd_oxygen = []\n",
    "\n",
    "# Loop through the trajectory frames and calculate MSD\n",
    "for ts in u.trajectory:\n",
    "    if len(water_oxygen_atoms) > 0:\n",
    "        initial_positions_water = water_oxygen_atoms.positions[0]\n",
    "        msd_water_oxygen.append(np.mean(np.square(water_oxygen_atoms.positions - initial_positions_water)))\n",
    "    if len(sodium_atoms) > 0:\n",
    "        initial_positions_sodium = sodium_atoms.positions[0]\n",
    "        msd_sodium.append(np.mean(np.square(sodium_atoms.positions - initial_positions_sodium)))\n",
    "    if len(oxygen_atoms) > 0:\n",
    "        initial_positions_oxygen = oxygen_atoms.positions[0]\n",
    "        msd_oxygen.append(np.mean(np.square(oxygen_atoms.positions - initial_positions_oxygen)))\n",
    "\n",
    "# Convert the lists to NumPy arrays\n",
    "msd_water_oxygen = np.array(msd_water_oxygen)\n",
    "msd_sodium = np.array(msd_sodium)\n",
    "msd_oxygen = np.array(msd_oxygen)\n",
    "\n",
    "# Plot the MSD vs. time\n",
    "plt.figure(figsize=(10, 6))\n",
    "plt.plot(u.trajectory.time, msd_water_oxygen, label=\"Water Oxygen\")\n",
    "plt.plot(u.trajectory.time, msd_sodium, label=\"Sodium\")\n",
    "plt.plot(u.trajectory.time, msd_oxygen, label=\"Oxygen\")\n",
    "plt.xlabel(\"Time (ps)\")\n",
    "plt.ylabel(\"Mean Squared Displacement (Angstrom^2)\")\n",
    "plt.legend()\n",
    "plt.title(\"Mean Squared Displacement vs. Time\")\n",
    "plt.grid(True)\n",
    "\n",
    "# Save the figure to the Figures folder\n",
    "plt.savefig(\"Figures/MSD_plot.png\")\n",
    "\n",
    "# Display the plot in the Jupyter Notebook\n",
    "plt.show()\n"
   ]
  },
  {
   "cell_type": "code",
   "execution_count": 8,
   "metadata": {},
   "outputs": [
    {
     "name": "stdout",
     "output_type": "stream",
     "text": [
      "No data available for plotting MSD.\n"
     ]
    }
   ],
   "source": [
    "import MDAnalysis as mda\n",
    "import numpy as np\n",
    "import matplotlib.pyplot as plt\n",
    "\n",
    "# Load the trajectory and topology data\n",
    "u = mda.Universe(\"/home/hz2750/comp-lab-class/comp-lab-class-2023/Week4/Setup/Ions_Simulation/gromacs/step5_1.gro\", \n",
    "                 \"/home/hz2750/comp-lab-class/comp-lab-class-2023/Week4/Setup/Ions_Simulation/gromacs/unwrapped_traj2.xtc\")\n",
    "\n",
    "# Define the atom groups for Water Oxygens, Sodium, and Oxygen\n",
    "water_oxygen_atoms = u.select_atoms('name O and resname SOL')\n",
    "sodium_atoms = u.select_atoms('name NA')\n",
    "oxygen_atoms = u.select_atoms('name O')\n",
    "\n",
    "# Initialize arrays to store the MSD values\n",
    "msd_water_oxygen = []\n",
    "msd_sodium = []\n",
    "msd_oxygen = []\n",
    "\n",
    "# Loop through the trajectory frames and calculate MSD\n",
    "for ts in u.trajectory:\n",
    "    if len(water_oxygen_atoms) > 0:\n",
    "        initial_positions_water = water_oxygen_atoms.positions[0]\n",
    "        msd_water_oxygen.append(np.mean(np.square(water_oxygen_atoms.positions - initial_positions_water)))\n",
    "    if len(sodium_atoms) > 0:\n",
    "        initial_positions_sodium = sodium_atoms.positions[0]\n",
    "        msd_sodium.append(np.mean(np.square(sodium_atoms.positions - initial_positions_sodium)))\n",
    "    if len(oxygen_atoms) > 0:\n",
    "        initial_positions_oxygen = oxygen_atoms.positions[0]\n",
    "        msd_oxygen.append(np.mean(np.square(oxygen_atoms.positions - initial_positions_oxygen)))\n",
    "\n",
    "# Ensure that there is data before attempting to plot\n",
    "if msd_water_oxygen:\n",
    "    # Convert the lists to NumPy arrays\n",
    "    msd_water_oxygen = np.array(msd_water_oxygen)\n",
    "    msd_sodium = np.array(msd_sodium)\n",
    "    msd_oxygen = np.array(msd_oxygen)\n",
    "\n",
    "    # Plot the MSD vs. time\n",
    "    plt.figure(figsize=(10, 6))\n",
    "    plt.plot(u.trajectory.time, msd_water_oxygen, label=\"Water Oxygen\")\n",
    "    plt.plot(u.trajectory.time, msd_sodium, label=\"Sodium\")\n",
    "    plt.plot(u.trajectory.time, msd_oxygen, label=\"Oxygen\")\n",
    "    plt.xlabel(\"Time (ps)\")\n",
    "    plt.ylabel(\"Mean Squared Displacement (Angstrom^2)\")\n",
    "    plt.legend()\n",
    "    plt.title(\"Mean Squared Displacement vs. Time\")\n",
    "    plt.grid(True)\n",
    "\n",
    "    # Save the figure to the Figures folder\n",
    "    plt.savefig(\"Figures/MSD_plot.png\")\n",
    "\n",
    "    # Display the plot in the Jupyter Notebook\n",
    "    plt.show()\n",
    "else:\n",
    "    print(\"No data available for plotting MSD.\")\n"
   ]
  },
  {
   "cell_type": "code",
   "execution_count": 9,
   "metadata": {},
   "outputs": [
    {
     "name": "stdout",
     "output_type": "stream",
     "text": [
      "Number of frames: 451\n",
      "Number of water oxygen atoms: 0\n",
      "Number of sodium atoms: 0\n",
      "Number of oxygen atoms: 0\n"
     ]
    }
   ],
   "source": [
    "print(\"Number of frames:\", len(u.trajectory))\n",
    "print(\"Number of water oxygen atoms:\", len(water_oxygen_atoms))\n",
    "print(\"Number of sodium atoms:\", len(sodium_atoms))\n",
    "print(\"Number of oxygen atoms:\", len(oxygen_atoms))\n"
   ]
  },
  {
   "cell_type": "code",
   "execution_count": null,
   "metadata": {},
   "outputs": [],
   "source": []
  }
 ],
 "metadata": {
  "kernelspec": {
   "display_name": "Python 3",
   "language": "python",
   "name": "python3"
  },
  "language_info": {
   "codemirror_mode": {
    "name": "ipython",
    "version": 3
   },
   "file_extension": ".py",
   "mimetype": "text/x-python",
   "name": "python",
   "nbconvert_exporter": "python",
   "pygments_lexer": "ipython3",
   "version": "3.8.6"
  }
 },
 "nbformat": 4,
 "nbformat_minor": 4
}
